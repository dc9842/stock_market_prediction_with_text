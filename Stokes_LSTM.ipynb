{
  "nbformat": 4,
  "nbformat_minor": 0,
  "metadata": {
    "colab": {
      "name": "Stokes.ipynb",
      "provenance": [],
      "collapsed_sections": []
    },
    "kernelspec": {
      "name": "python3",
      "display_name": "Python 3"
    },
    "language_info": {
      "name": "python"
    }
  },
  "cells": [
    {
      "cell_type": "code",
      "metadata": {
        "id": "B6lZLlaLc8gw"
      },
      "source": [
        "import numpy as np\n",
        "import pandas as pd\n",
        "from keras.models import Sequential\n",
        "from keras.layers import Dense, Embedding, LSTM, SpatialDropout1D\n",
        "from sklearn.model_selection import train_test_split\n",
        "from sklearn.feature_extraction.text import CountVectorizer\n",
        "from keras.preprocessing.text import Tokenizer\n",
        "from keras.preprocessing.sequence import pad_sequences\n",
        "from keras.utils.np_utils import to_categorical\n",
        "import re"
      ],
      "execution_count": 1,
      "outputs": []
    },
    {
      "cell_type": "code",
      "metadata": {
        "id": "jxjCph9qdYzQ"
      },
      "source": [
        "newsData = pd.read_csv('Combined_News_DJIA.csv')\n",
        "#remove all non-alphabetic char from headlines.\n",
        "df = newsData.copy()\n",
        "df.replace(\"[^a-zA-Z]\",\" \",regex=True, inplace=True)\n",
        "for i in df.columns:\n",
        "    if i=='Date':\n",
        "        continue\n",
        "    if i=='Label':\n",
        "        continue\n",
        "    df[i] = df[i].str.lower()\n",
        "df['Date'] = newsData['Date']"
      ],
      "execution_count": 2,
      "outputs": []
    },
    {
      "cell_type": "code",
      "metadata": {
        "colab": {
          "base_uri": "https://localhost:8080/",
          "height": 707
        },
        "id": "h4iFP_1gdcAA",
        "outputId": "3256b52f-6f5e-49b6-9522-3c3d2ae49000"
      },
      "source": [
        "df.replace(\"^b \",\"\",regex=True, inplace=True)\n",
        "df.head()"
      ],
      "execution_count": 3,
      "outputs": [
        {
          "output_type": "execute_result",
          "data": {
            "text/html": [
              "<div>\n",
              "<style scoped>\n",
              "    .dataframe tbody tr th:only-of-type {\n",
              "        vertical-align: middle;\n",
              "    }\n",
              "\n",
              "    .dataframe tbody tr th {\n",
              "        vertical-align: top;\n",
              "    }\n",
              "\n",
              "    .dataframe thead th {\n",
              "        text-align: right;\n",
              "    }\n",
              "</style>\n",
              "<table border=\"1\" class=\"dataframe\">\n",
              "  <thead>\n",
              "    <tr style=\"text-align: right;\">\n",
              "      <th></th>\n",
              "      <th>Date</th>\n",
              "      <th>Label</th>\n",
              "      <th>Top1</th>\n",
              "      <th>Top2</th>\n",
              "      <th>Top3</th>\n",
              "      <th>Top4</th>\n",
              "      <th>Top5</th>\n",
              "      <th>Top6</th>\n",
              "      <th>Top7</th>\n",
              "      <th>Top8</th>\n",
              "      <th>Top9</th>\n",
              "      <th>Top10</th>\n",
              "      <th>Top11</th>\n",
              "      <th>Top12</th>\n",
              "      <th>Top13</th>\n",
              "      <th>Top14</th>\n",
              "      <th>Top15</th>\n",
              "      <th>Top16</th>\n",
              "      <th>Top17</th>\n",
              "      <th>Top18</th>\n",
              "      <th>Top19</th>\n",
              "      <th>Top20</th>\n",
              "      <th>Top21</th>\n",
              "      <th>Top22</th>\n",
              "      <th>Top23</th>\n",
              "      <th>Top24</th>\n",
              "      <th>Top25</th>\n",
              "    </tr>\n",
              "  </thead>\n",
              "  <tbody>\n",
              "    <tr>\n",
              "      <th>0</th>\n",
              "      <td>2008-08-08</td>\n",
              "      <td>0</td>\n",
              "      <td>georgia  downs two russian warplanes  as count...</td>\n",
              "      <td>breaking  musharraf to be impeached</td>\n",
              "      <td>russia today  columns of troops roll into sout...</td>\n",
              "      <td>russian tanks are moving towards the capital o...</td>\n",
              "      <td>afghan children raped with  impunity   u n  of...</td>\n",
              "      <td>russian tanks have entered south ossetia w...</td>\n",
              "      <td>breaking  georgia invades south ossetia  russi...</td>\n",
              "      <td>the  enemy combatent  trials are nothing but a...</td>\n",
              "      <td>georgian troops retreat from s  osettain capit...</td>\n",
              "      <td>did the u s  prep georgia for war with russia</td>\n",
              "      <td>rice gives green light for israel to attack ir...</td>\n",
              "      <td>announcing class action lawsuit on behalf of a...</td>\n",
              "      <td>so   russia and georgia are at war and the nyt...</td>\n",
              "      <td>china tells bush to stay out of other countrie...</td>\n",
              "      <td>did world war iii start today</td>\n",
              "      <td>georgia invades south ossetia   if russia gets...</td>\n",
              "      <td>al qaeda faces islamist backlash</td>\n",
              "      <td>condoleezza rice   the us would not act to pre...</td>\n",
              "      <td>this is a busy day   the european union has ap...</td>\n",
              "      <td>georgia will withdraw       soldiers from iraq...</td>\n",
              "      <td>why the pentagon thinks attacking iran is a ba...</td>\n",
              "      <td>caucasus in crisis  georgia invades south osse...</td>\n",
              "      <td>indian shoe manufactory    and again in a seri...</td>\n",
              "      <td>visitors suffering from mental illnesses banne...</td>\n",
              "      <td>no help for mexico s kidnapping surge</td>\n",
              "    </tr>\n",
              "    <tr>\n",
              "      <th>1</th>\n",
              "      <td>2008-08-11</td>\n",
              "      <td>1</td>\n",
              "      <td>why wont america and nato help us  if they won...</td>\n",
              "      <td>bush puts foot down on georgian conflict</td>\n",
              "      <td>jewish georgian minister  thanks to israeli tr...</td>\n",
              "      <td>georgian army flees in disarray as russians ad...</td>\n",
              "      <td>olympic opening ceremony fireworks  faked</td>\n",
              "      <td>what were the mossad with fraudulent new zeala...</td>\n",
              "      <td>russia angered by israeli military sale to geo...</td>\n",
              "      <td>an american citizen living in s ossetia blames...</td>\n",
              "      <td>welcome to world war iv  now in high definition</td>\n",
              "      <td>georgia s move  a mistake of monumental propor...</td>\n",
              "      <td>russia presses deeper into georgia  u s  says ...</td>\n",
              "      <td>abhinav bindra wins first ever individual olym...</td>\n",
              "      <td>u s  ship heads for arctic to define territory</td>\n",
              "      <td>drivers in a jerusalem taxi station threaten t...</td>\n",
              "      <td>the french team is stunned by phelps and the  ...</td>\n",
              "      <td>israel and the us behind the georgian aggressi...</td>\n",
              "      <td>do not believe tv  neither russian nor georgi...</td>\n",
              "      <td>riots are still going on in montreal  canada  ...</td>\n",
              "      <td>china to overtake us as largest manufacturer</td>\n",
              "      <td>war in south ossetia  pics</td>\n",
              "      <td>israeli physicians group condemns state torture</td>\n",
              "      <td>russia has just beaten the united states over...</td>\n",
              "      <td>perhaps  the  question about the georgia   rus...</td>\n",
              "      <td>russia is so much better at war</td>\n",
              "      <td>so this is what it s come to  trading sex for ...</td>\n",
              "    </tr>\n",
              "    <tr>\n",
              "      <th>2</th>\n",
              "      <td>2008-08-12</td>\n",
              "      <td>0</td>\n",
              "      <td>remember that adorable   year old who sang at ...</td>\n",
              "      <td>russia  ends georgia operation</td>\n",
              "      <td>if we had no sexual harassment we would have ...</td>\n",
              "      <td>al qa eda is losing support in iraq because of...</td>\n",
              "      <td>ceasefire in georgia  putin outmaneuvers the w...</td>\n",
              "      <td>why microsoft and intel tried to kill the xo  ...</td>\n",
              "      <td>stratfor  the russo georgian war and the balan...</td>\n",
              "      <td>i m trying to get a sense of this whole georgi...</td>\n",
              "      <td>the us military was surprised by the timing an...</td>\n",
              "      <td>u s  beats war drum as iran dumps the dollar</td>\n",
              "      <td>gorbachev   georgian military attacked the sou...</td>\n",
              "      <td>cnn use footage of tskhinvali ruins to cover g...</td>\n",
              "      <td>beginning a war as the olympics were opening v...</td>\n",
              "      <td>pyramids as large as the luxor stacked into...</td>\n",
              "      <td>the    top party cities in the world</td>\n",
              "      <td>u s  troops still in georgia  did you know the...</td>\n",
              "      <td>why russias response to georgia was right</td>\n",
              "      <td>gorbachev accuses u s  of making a  serious bl...</td>\n",
              "      <td>russia  georgia  and nato  cold war two</td>\n",
              "      <td>remember that adorable    year old who led you...</td>\n",
              "      <td>war in georgia  the israeli connection</td>\n",
              "      <td>all signs point to the us encouraging georgia ...</td>\n",
              "      <td>christopher king argues that the us and nato a...</td>\n",
              "      <td>america  the new mexico</td>\n",
              "      <td>bbc news   asia pacific   extinction  by man n...</td>\n",
              "    </tr>\n",
              "    <tr>\n",
              "      <th>3</th>\n",
              "      <td>2008-08-13</td>\n",
              "      <td>0</td>\n",
              "      <td>u s  refuses israel weapons to attack iran  r...</td>\n",
              "      <td>when the president ordered to attack tskhinval...</td>\n",
              "      <td>israel clears troops who killed reuters camer...</td>\n",
              "      <td>britain  s policy of being tough on drugs is  ...</td>\n",
              "      <td>body of    year old found in trunk  latest  ra...</td>\n",
              "      <td>china has moved     million  quake survivors i...</td>\n",
              "      <td>bush announces operation get all up in russia ...</td>\n",
              "      <td>russian forces sink georgian ships</td>\n",
              "      <td>the commander of a navy air reconnaissance squ...</td>\n",
              "      <td>of cnn readers  russia s actions in georgi...</td>\n",
              "      <td>usa to send fleet into black sea to help georg...</td>\n",
              "      <td>us warns against israeli plan to strike agains...</td>\n",
              "      <td>in an intriguing cyberalliance  two estonian c...</td>\n",
              "      <td>the cnn effect  georgia schools russia in info...</td>\n",
              "      <td>why russias response to georgia was right</td>\n",
              "      <td>elephants extinct by</td>\n",
              "      <td>us humanitarian missions soon in georgia   if ...</td>\n",
              "      <td>georgia s ddos came from us sources</td>\n",
              "      <td>russian convoy heads into georgia  violating t...</td>\n",
              "      <td>israeli defence minister  us against strike on...</td>\n",
              "      <td>gorbachev  we had no choice</td>\n",
              "      <td>witness  russian forces head towards tbilisi i...</td>\n",
              "      <td>quarter of russians blame u s  for conflict  ...</td>\n",
              "      <td>georgian president  says us military will take...</td>\n",
              "      <td>nobel laureate aleksander solzhenitsyn a...</td>\n",
              "    </tr>\n",
              "    <tr>\n",
              "      <th>4</th>\n",
              "      <td>2008-08-14</td>\n",
              "      <td>1</td>\n",
              "      <td>all the experts admit that we should legalise ...</td>\n",
              "      <td>war in south osetia      pictures made by a ru...</td>\n",
              "      <td>swedish wrestler ara abrahamian throws away me...</td>\n",
              "      <td>russia exaggerated the death toll in south oss...</td>\n",
              "      <td>missile that killed   inside pakistan may have...</td>\n",
              "      <td>rushdie condemns random house s refusal to pub...</td>\n",
              "      <td>poland and us agree to missle defense deal  in...</td>\n",
              "      <td>will the russians conquer tblisi  bet on it  n...</td>\n",
              "      <td>russia exaggerating south ossetian death toll ...</td>\n",
              "      <td>musharraf expected to resign rather than face...</td>\n",
              "      <td>moscow made plans months ago to invade georgia</td>\n",
              "      <td>why russias response to georgia was right</td>\n",
              "      <td>nigeria has handed over the potentially oil ri...</td>\n",
              "      <td>the us and poland have agreed a preliminary de...</td>\n",
              "      <td>russia apparently is sabotaging infrastructure...</td>\n",
              "      <td>bank analyst forecast georgian crisis   days e...</td>\n",
              "      <td>georgia confict could set back russia s us rel...</td>\n",
              "      <td>war in the caucasus is as much the product of ...</td>\n",
              "      <td>non media  photos of south ossetia georgia co...</td>\n",
              "      <td>georgian tv reporter shot by russian sniper du...</td>\n",
              "      <td>saudi arabia  mother moves to block child marr...</td>\n",
              "      <td>taliban wages war on humanitarian aid workers</td>\n",
              "      <td>russia  world   can forget about  georgia  s t...</td>\n",
              "      <td>darfur rebels accuse sudan of mounting major a...</td>\n",
              "      <td>philippines   peace advocate say muslims need ...</td>\n",
              "    </tr>\n",
              "  </tbody>\n",
              "</table>\n",
              "</div>"
            ],
            "text/plain": [
              "         Date  ...                                              Top25\n",
              "0  2008-08-08  ...             no help for mexico s kidnapping surge \n",
              "1  2008-08-11  ...  so this is what it s come to  trading sex for ...\n",
              "2  2008-08-12  ...  bbc news   asia pacific   extinction  by man n...\n",
              "3  2008-08-13  ...        nobel laureate aleksander solzhenitsyn a...\n",
              "4  2008-08-14  ...  philippines   peace advocate say muslims need ...\n",
              "\n",
              "[5 rows x 27 columns]"
            ]
          },
          "metadata": {
            "tags": []
          },
          "execution_count": 3
        }
      ]
    },
    {
      "cell_type": "code",
      "metadata": {
        "id": "SiJrYnJvdeBQ"
      },
      "source": [
        "#remove NA and replace with empty string\n",
        "df.fillna(' ', inplace=True)"
      ],
      "execution_count": 4,
      "outputs": []
    },
    {
      "cell_type": "code",
      "metadata": {
        "id": "8TK9i7Lwdht0"
      },
      "source": [
        "def mergeCol(row):\n",
        "    return ' '.join(row['Top1':'Top25'])\n",
        "df['headlines'] = df.apply(mergeCol, axis = 1)"
      ],
      "execution_count": 5,
      "outputs": []
    },
    {
      "cell_type": "code",
      "metadata": {
        "id": "jeevNVLHdjyG"
      },
      "source": [
        "new_df = df[['Label','headlines']]"
      ],
      "execution_count": 6,
      "outputs": []
    },
    {
      "cell_type": "code",
      "metadata": {
        "id": "c4k8d9zVdl1k"
      },
      "source": [
        "vocabSize = 1500\n",
        "tokenizer = Tokenizer(num_words=vocabSize, split=' ')\n",
        "tokenizer.fit_on_texts(new_df['headlines'].values)\n",
        "X = tokenizer.texts_to_sequences(new_df['headlines'])\n",
        "X = pad_sequences(X)"
      ],
      "execution_count": 32,
      "outputs": []
    },
    {
      "cell_type": "code",
      "metadata": {
        "colab": {
          "base_uri": "https://localhost:8080/"
        },
        "id": "H429PGnQdpjH",
        "outputId": "4f90587d-dbbc-40d5-9dcb-1cb81b6fe1a1"
      },
      "source": [
        "X.shape"
      ],
      "execution_count": 33,
      "outputs": [
        {
          "output_type": "execute_result",
          "data": {
            "text/plain": [
              "(1989, 553)"
            ]
          },
          "metadata": {
            "tags": []
          },
          "execution_count": 33
        }
      ]
    },
    {
      "cell_type": "code",
      "metadata": {
        "id": "XlE0szACdrQ3"
      },
      "source": [
        "embed_dim = 128\n",
        "\n",
        "lstm_out = 300\n",
        "\n",
        "model = Sequential()\n",
        "model.add(Embedding(vocabSize, embed_dim,input_length = X.shape[1]))\n",
        "model.add(LSTM(lstm_out, dropout=0.1, recurrent_dropout=0.1))"
      ],
      "execution_count": 42,
      "outputs": []
    },
    {
      "cell_type": "code",
      "metadata": {
        "id": "Z5_v3fBwd9Ri"
      },
      "source": [
        "model.add(Dense(1,activation='sigmoid'))\n",
        "model.compile(loss = 'binary_crossentropy', optimizer='adam',metrics = ['accuracy'])"
      ],
      "execution_count": 43,
      "outputs": []
    },
    {
      "cell_type": "code",
      "metadata": {
        "id": "-7zicWsDeAQ7"
      },
      "source": [
        "from sklearn.preprocessing import LabelEncoder\n",
        "Le = LabelEncoder()\n",
        "y = Le.fit_transform(new_df['Label'])"
      ],
      "execution_count": 44,
      "outputs": []
    },
    {
      "cell_type": "code",
      "metadata": {
        "id": "4txetmRYeB8P"
      },
      "source": [
        "train = df['Date'] < '20150101'\n",
        "test = df['Date'] > '20141231'"
      ],
      "execution_count": 45,
      "outputs": []
    },
    {
      "cell_type": "code",
      "metadata": {
        "id": "ze7XWTgReDhS"
      },
      "source": [
        "X_train = X[train,:]\n",
        "X_test = X[test,:]\n",
        "y_train = y[train]\n",
        "y_test = y[test]"
      ],
      "execution_count": 46,
      "outputs": []
    },
    {
      "cell_type": "code",
      "metadata": {
        "colab": {
          "base_uri": "https://localhost:8080/"
        },
        "id": "buh8-al7eE2G",
        "outputId": "25fa2cc9-6028-4cf9-81d4-07a4ac0ebac5"
      },
      "source": [
        "model.fit(X_train, y_train,validation_data = (X_test,y_test),epochs = 10, batch_size=32)"
      ],
      "execution_count": 47,
      "outputs": [
        {
          "output_type": "stream",
          "text": [
            "Epoch 1/10\n",
            "59/59 [==============================] - 214s 4s/step - loss: 0.6922 - accuracy: 0.5393 - val_loss: 0.6857 - val_accuracy: 0.5529\n",
            "Epoch 2/10\n",
            "59/59 [==============================] - 215s 4s/step - loss: 0.6896 - accuracy: 0.6063 - val_loss: 0.5729 - val_accuracy: 0.7434\n",
            "Epoch 3/10\n",
            "59/59 [==============================] - 216s 4s/step - loss: 0.5071 - accuracy: 0.7742 - val_loss: 0.5069 - val_accuracy: 0.7672\n",
            "Epoch 4/10\n",
            "59/59 [==============================] - 216s 4s/step - loss: 0.3229 - accuracy: 0.8739 - val_loss: 0.4413 - val_accuracy: 0.8042\n",
            "Epoch 5/10\n",
            "59/59 [==============================] - 215s 4s/step - loss: 0.2036 - accuracy: 0.9361 - val_loss: 0.4603 - val_accuracy: 0.8413\n",
            "Epoch 6/10\n",
            "59/59 [==============================] - 216s 4s/step - loss: 0.1204 - accuracy: 0.9640 - val_loss: 0.5025 - val_accuracy: 0.8545\n",
            "Epoch 7/10\n",
            "59/59 [==============================] - 215s 4s/step - loss: 0.0621 - accuracy: 0.9846 - val_loss: 0.5827 - val_accuracy: 0.8439\n",
            "Epoch 8/10\n",
            "59/59 [==============================] - 215s 4s/step - loss: 0.0341 - accuracy: 0.9928 - val_loss: 0.6513 - val_accuracy: 0.8413\n",
            "Epoch 9/10\n",
            "59/59 [==============================] - 214s 4s/step - loss: 0.0292 - accuracy: 0.9935 - val_loss: 0.7305 - val_accuracy: 0.8492\n",
            "Epoch 10/10\n",
            "59/59 [==============================] - 213s 4s/step - loss: 0.0077 - accuracy: 1.0000 - val_loss: 0.8188 - val_accuracy: 0.8545\n"
          ],
          "name": "stdout"
        },
        {
          "output_type": "execute_result",
          "data": {
            "text/plain": [
              "<tensorflow.python.keras.callbacks.History at 0x7fef7c8c8410>"
            ]
          },
          "metadata": {
            "tags": []
          },
          "execution_count": 47
        }
      ]
    },
    {
      "cell_type": "code",
      "metadata": {
        "colab": {
          "base_uri": "https://localhost:8080/"
        },
        "id": "bMSKPdRpeH4_",
        "outputId": "7ec69309-ac4e-42c1-ac8e-a01da95e476a"
      },
      "source": [
        "model.evaluate(X_test,y_test)"
      ],
      "execution_count": 48,
      "outputs": [
        {
          "output_type": "stream",
          "text": [
            "12/12 [==============================] - 6s 475ms/step - loss: 0.8188 - accuracy: 0.8545\n"
          ],
          "name": "stdout"
        },
        {
          "output_type": "execute_result",
          "data": {
            "text/plain": [
              "[0.8187647461891174, 0.8544973731040955]"
            ]
          },
          "metadata": {
            "tags": []
          },
          "execution_count": 48
        }
      ]
    },
    {
      "cell_type": "code",
      "metadata": {
        "colab": {
          "base_uri": "https://localhost:8080/"
        },
        "id": "FNruDtPEemvy",
        "outputId": "26a638ba-5f60-4928-ef41-1c4db90ac8aa"
      },
      "source": [
        "model.summary()"
      ],
      "execution_count": 41,
      "outputs": [
        {
          "output_type": "stream",
          "text": [
            "Model: \"sequential_3\"\n",
            "_________________________________________________________________\n",
            "Layer (type)                 Output Shape              Param #   \n",
            "=================================================================\n",
            "embedding_3 (Embedding)      (None, 553, 128)          192000    \n",
            "_________________________________________________________________\n",
            "lstm_3 (LSTM)                (None, 300)               514800    \n",
            "_________________________________________________________________\n",
            "dense_3 (Dense)              (None, 1)                 301       \n",
            "=================================================================\n",
            "Total params: 707,101\n",
            "Trainable params: 707,101\n",
            "Non-trainable params: 0\n",
            "_________________________________________________________________\n"
          ],
          "name": "stdout"
        }
      ]
    },
    {
      "cell_type": "code",
      "metadata": {
        "id": "x25zg8IOesbB"
      },
      "source": [
        ""
      ],
      "execution_count": null,
      "outputs": []
    }
  ]
}