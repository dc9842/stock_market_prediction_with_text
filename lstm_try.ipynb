{
 "cells": [
  {
   "cell_type": "code",
   "execution_count": 1,
   "metadata": {},
   "outputs": [],
   "source": [
    "import numpy as np\n",
    "import pandas as pd\n",
    "#import matplotlib.pyplot as plt\n",
    "from IPython.display import display"
   ]
  },
  {
   "cell_type": "code",
   "execution_count": 2,
   "metadata": {},
   "outputs": [],
   "source": [
    "#https://analyticsindiamag.com/how-to-implement-lstm-rnn-network-for-sentiment-analysis/"
   ]
  },
  {
   "cell_type": "code",
   "execution_count": 3,
   "metadata": {},
   "outputs": [],
   "source": [
    "newsData = pd.read_csv('Combined_News_DJIA.csv')\n",
    "#remove all non-alphabetic char from headlines.\n",
    "df = newsData.copy()\n",
    "df.replace(\"[^a-zA-Z]\",\" \",regex=True, inplace=True)\n",
    "for i in df.columns:\n",
    "    if i=='Date':\n",
    "        continue\n",
    "    if i=='Label':\n",
    "        continue\n",
    "    df[i] = df[i].str.lower()\n",
    "df['Date'] = newsData['Date']"
   ]
  },
  {
   "cell_type": "code",
   "execution_count": 4,
   "metadata": {
    "scrolled": true
   },
   "outputs": [
    {
     "data": {
      "text/html": [
       "<div>\n",
       "<style scoped>\n",
       "    .dataframe tbody tr th:only-of-type {\n",
       "        vertical-align: middle;\n",
       "    }\n",
       "\n",
       "    .dataframe tbody tr th {\n",
       "        vertical-align: top;\n",
       "    }\n",
       "\n",
       "    .dataframe thead th {\n",
       "        text-align: right;\n",
       "    }\n",
       "</style>\n",
       "<table border=\"1\" class=\"dataframe\">\n",
       "  <thead>\n",
       "    <tr style=\"text-align: right;\">\n",
       "      <th></th>\n",
       "      <th>Date</th>\n",
       "      <th>Label</th>\n",
       "      <th>Top1</th>\n",
       "      <th>Top2</th>\n",
       "      <th>Top3</th>\n",
       "      <th>Top4</th>\n",
       "      <th>Top5</th>\n",
       "      <th>Top6</th>\n",
       "      <th>Top7</th>\n",
       "      <th>Top8</th>\n",
       "      <th>...</th>\n",
       "      <th>Top16</th>\n",
       "      <th>Top17</th>\n",
       "      <th>Top18</th>\n",
       "      <th>Top19</th>\n",
       "      <th>Top20</th>\n",
       "      <th>Top21</th>\n",
       "      <th>Top22</th>\n",
       "      <th>Top23</th>\n",
       "      <th>Top24</th>\n",
       "      <th>Top25</th>\n",
       "    </tr>\n",
       "  </thead>\n",
       "  <tbody>\n",
       "    <tr>\n",
       "      <th>0</th>\n",
       "      <td>2008-08-08</td>\n",
       "      <td>0</td>\n",
       "      <td>georgia  downs two russian warplanes  as count...</td>\n",
       "      <td>breaking  musharraf to be impeached</td>\n",
       "      <td>russia today  columns of troops roll into sout...</td>\n",
       "      <td>russian tanks are moving towards the capital o...</td>\n",
       "      <td>afghan children raped with  impunity   u n  of...</td>\n",
       "      <td>russian tanks have entered south ossetia w...</td>\n",
       "      <td>breaking  georgia invades south ossetia  russi...</td>\n",
       "      <td>the  enemy combatent  trials are nothing but a...</td>\n",
       "      <td>...</td>\n",
       "      <td>georgia invades south ossetia   if russia gets...</td>\n",
       "      <td>al qaeda faces islamist backlash</td>\n",
       "      <td>condoleezza rice   the us would not act to pre...</td>\n",
       "      <td>this is a busy day   the european union has ap...</td>\n",
       "      <td>georgia will withdraw       soldiers from iraq...</td>\n",
       "      <td>why the pentagon thinks attacking iran is a ba...</td>\n",
       "      <td>caucasus in crisis  georgia invades south osse...</td>\n",
       "      <td>indian shoe manufactory    and again in a seri...</td>\n",
       "      <td>visitors suffering from mental illnesses banne...</td>\n",
       "      <td>no help for mexico s kidnapping surge</td>\n",
       "    </tr>\n",
       "    <tr>\n",
       "      <th>1</th>\n",
       "      <td>2008-08-11</td>\n",
       "      <td>1</td>\n",
       "      <td>why wont america and nato help us  if they won...</td>\n",
       "      <td>bush puts foot down on georgian conflict</td>\n",
       "      <td>jewish georgian minister  thanks to israeli tr...</td>\n",
       "      <td>georgian army flees in disarray as russians ad...</td>\n",
       "      <td>olympic opening ceremony fireworks  faked</td>\n",
       "      <td>what were the mossad with fraudulent new zeala...</td>\n",
       "      <td>russia angered by israeli military sale to geo...</td>\n",
       "      <td>an american citizen living in s ossetia blames...</td>\n",
       "      <td>...</td>\n",
       "      <td>israel and the us behind the georgian aggressi...</td>\n",
       "      <td>do not believe tv  neither russian nor georgi...</td>\n",
       "      <td>riots are still going on in montreal  canada  ...</td>\n",
       "      <td>china to overtake us as largest manufacturer</td>\n",
       "      <td>war in south ossetia  pics</td>\n",
       "      <td>israeli physicians group condemns state torture</td>\n",
       "      <td>russia has just beaten the united states over...</td>\n",
       "      <td>perhaps  the  question about the georgia   rus...</td>\n",
       "      <td>russia is so much better at war</td>\n",
       "      <td>so this is what it s come to  trading sex for ...</td>\n",
       "    </tr>\n",
       "    <tr>\n",
       "      <th>2</th>\n",
       "      <td>2008-08-12</td>\n",
       "      <td>0</td>\n",
       "      <td>remember that adorable   year old who sang at ...</td>\n",
       "      <td>russia  ends georgia operation</td>\n",
       "      <td>if we had no sexual harassment we would have ...</td>\n",
       "      <td>al qa eda is losing support in iraq because of...</td>\n",
       "      <td>ceasefire in georgia  putin outmaneuvers the w...</td>\n",
       "      <td>why microsoft and intel tried to kill the xo  ...</td>\n",
       "      <td>stratfor  the russo georgian war and the balan...</td>\n",
       "      <td>i m trying to get a sense of this whole georgi...</td>\n",
       "      <td>...</td>\n",
       "      <td>u s  troops still in georgia  did you know the...</td>\n",
       "      <td>why russias response to georgia was right</td>\n",
       "      <td>gorbachev accuses u s  of making a  serious bl...</td>\n",
       "      <td>russia  georgia  and nato  cold war two</td>\n",
       "      <td>remember that adorable    year old who led you...</td>\n",
       "      <td>war in georgia  the israeli connection</td>\n",
       "      <td>all signs point to the us encouraging georgia ...</td>\n",
       "      <td>christopher king argues that the us and nato a...</td>\n",
       "      <td>america  the new mexico</td>\n",
       "      <td>bbc news   asia pacific   extinction  by man n...</td>\n",
       "    </tr>\n",
       "    <tr>\n",
       "      <th>3</th>\n",
       "      <td>2008-08-13</td>\n",
       "      <td>0</td>\n",
       "      <td>u s  refuses israel weapons to attack iran  r...</td>\n",
       "      <td>when the president ordered to attack tskhinval...</td>\n",
       "      <td>israel clears troops who killed reuters camer...</td>\n",
       "      <td>britain  s policy of being tough on drugs is  ...</td>\n",
       "      <td>body of    year old found in trunk  latest  ra...</td>\n",
       "      <td>china has moved     million  quake survivors i...</td>\n",
       "      <td>bush announces operation get all up in russia ...</td>\n",
       "      <td>russian forces sink georgian ships</td>\n",
       "      <td>...</td>\n",
       "      <td>elephants extinct by</td>\n",
       "      <td>us humanitarian missions soon in georgia   if ...</td>\n",
       "      <td>georgia s ddos came from us sources</td>\n",
       "      <td>russian convoy heads into georgia  violating t...</td>\n",
       "      <td>israeli defence minister  us against strike on...</td>\n",
       "      <td>gorbachev  we had no choice</td>\n",
       "      <td>witness  russian forces head towards tbilisi i...</td>\n",
       "      <td>quarter of russians blame u s  for conflict  ...</td>\n",
       "      <td>georgian president  says us military will take...</td>\n",
       "      <td>nobel laureate aleksander solzhenitsyn a...</td>\n",
       "    </tr>\n",
       "    <tr>\n",
       "      <th>4</th>\n",
       "      <td>2008-08-14</td>\n",
       "      <td>1</td>\n",
       "      <td>all the experts admit that we should legalise ...</td>\n",
       "      <td>war in south osetia      pictures made by a ru...</td>\n",
       "      <td>swedish wrestler ara abrahamian throws away me...</td>\n",
       "      <td>russia exaggerated the death toll in south oss...</td>\n",
       "      <td>missile that killed   inside pakistan may have...</td>\n",
       "      <td>rushdie condemns random house s refusal to pub...</td>\n",
       "      <td>poland and us agree to missle defense deal  in...</td>\n",
       "      <td>will the russians conquer tblisi  bet on it  n...</td>\n",
       "      <td>...</td>\n",
       "      <td>bank analyst forecast georgian crisis   days e...</td>\n",
       "      <td>georgia confict could set back russia s us rel...</td>\n",
       "      <td>war in the caucasus is as much the product of ...</td>\n",
       "      <td>non media  photos of south ossetia georgia co...</td>\n",
       "      <td>georgian tv reporter shot by russian sniper du...</td>\n",
       "      <td>saudi arabia  mother moves to block child marr...</td>\n",
       "      <td>taliban wages war on humanitarian aid workers</td>\n",
       "      <td>russia  world   can forget about  georgia  s t...</td>\n",
       "      <td>darfur rebels accuse sudan of mounting major a...</td>\n",
       "      <td>philippines   peace advocate say muslims need ...</td>\n",
       "    </tr>\n",
       "  </tbody>\n",
       "</table>\n",
       "<p>5 rows × 27 columns</p>\n",
       "</div>"
      ],
      "text/plain": [
       "         Date  Label                                               Top1  \\\n",
       "0  2008-08-08      0  georgia  downs two russian warplanes  as count...   \n",
       "1  2008-08-11      1  why wont america and nato help us  if they won...   \n",
       "2  2008-08-12      0  remember that adorable   year old who sang at ...   \n",
       "3  2008-08-13      0   u s  refuses israel weapons to attack iran  r...   \n",
       "4  2008-08-14      1  all the experts admit that we should legalise ...   \n",
       "\n",
       "                                                Top2  \\\n",
       "0              breaking  musharraf to be impeached     \n",
       "1          bush puts foot down on georgian conflict    \n",
       "2                   russia  ends georgia operation     \n",
       "3  when the president ordered to attack tskhinval...   \n",
       "4  war in south osetia      pictures made by a ru...   \n",
       "\n",
       "                                                Top3  \\\n",
       "0  russia today  columns of troops roll into sout...   \n",
       "1  jewish georgian minister  thanks to israeli tr...   \n",
       "2   if we had no sexual harassment we would have ...   \n",
       "3   israel clears troops who killed reuters camer...   \n",
       "4  swedish wrestler ara abrahamian throws away me...   \n",
       "\n",
       "                                                Top4  \\\n",
       "0  russian tanks are moving towards the capital o...   \n",
       "1  georgian army flees in disarray as russians ad...   \n",
       "2  al qa eda is losing support in iraq because of...   \n",
       "3  britain  s policy of being tough on drugs is  ...   \n",
       "4  russia exaggerated the death toll in south oss...   \n",
       "\n",
       "                                                Top5  \\\n",
       "0  afghan children raped with  impunity   u n  of...   \n",
       "1        olympic opening ceremony fireworks  faked     \n",
       "2  ceasefire in georgia  putin outmaneuvers the w...   \n",
       "3  body of    year old found in trunk  latest  ra...   \n",
       "4  missile that killed   inside pakistan may have...   \n",
       "\n",
       "                                                Top6  \\\n",
       "0      russian tanks have entered south ossetia w...   \n",
       "1  what were the mossad with fraudulent new zeala...   \n",
       "2  why microsoft and intel tried to kill the xo  ...   \n",
       "3  china has moved     million  quake survivors i...   \n",
       "4  rushdie condemns random house s refusal to pub...   \n",
       "\n",
       "                                                Top7  \\\n",
       "0  breaking  georgia invades south ossetia  russi...   \n",
       "1  russia angered by israeli military sale to geo...   \n",
       "2  stratfor  the russo georgian war and the balan...   \n",
       "3  bush announces operation get all up in russia ...   \n",
       "4  poland and us agree to missle defense deal  in...   \n",
       "\n",
       "                                                Top8  ...  \\\n",
       "0  the  enemy combatent  trials are nothing but a...  ...   \n",
       "1  an american citizen living in s ossetia blames...  ...   \n",
       "2  i m trying to get a sense of this whole georgi...  ...   \n",
       "3               russian forces sink georgian ships    ...   \n",
       "4  will the russians conquer tblisi  bet on it  n...  ...   \n",
       "\n",
       "                                               Top16  \\\n",
       "0  georgia invades south ossetia   if russia gets...   \n",
       "1  israel and the us behind the georgian aggressi...   \n",
       "2  u s  troops still in georgia  did you know the...   \n",
       "3                        elephants extinct by          \n",
       "4  bank analyst forecast georgian crisis   days e...   \n",
       "\n",
       "                                               Top17  \\\n",
       "0                  al qaeda faces islamist backlash    \n",
       "1   do not believe tv  neither russian nor georgi...   \n",
       "2         why russias response to georgia was right    \n",
       "3  us humanitarian missions soon in georgia   if ...   \n",
       "4  georgia confict could set back russia s us rel...   \n",
       "\n",
       "                                               Top18  \\\n",
       "0  condoleezza rice   the us would not act to pre...   \n",
       "1  riots are still going on in montreal  canada  ...   \n",
       "2  gorbachev accuses u s  of making a  serious bl...   \n",
       "3               georgia s ddos came from us sources    \n",
       "4  war in the caucasus is as much the product of ...   \n",
       "\n",
       "                                               Top19  \\\n",
       "0  this is a busy day   the european union has ap...   \n",
       "1      china to overtake us as largest manufacturer    \n",
       "2           russia  georgia  and nato  cold war two    \n",
       "3  russian convoy heads into georgia  violating t...   \n",
       "4   non media  photos of south ossetia georgia co...   \n",
       "\n",
       "                                               Top20  \\\n",
       "0  georgia will withdraw       soldiers from iraq...   \n",
       "1                       war in south ossetia  pics     \n",
       "2  remember that adorable    year old who led you...   \n",
       "3  israeli defence minister  us against strike on...   \n",
       "4  georgian tv reporter shot by russian sniper du...   \n",
       "\n",
       "                                               Top21  \\\n",
       "0  why the pentagon thinks attacking iran is a ba...   \n",
       "1   israeli physicians group condemns state torture    \n",
       "2            war in georgia  the israeli connection    \n",
       "3                       gorbachev  we had no choice    \n",
       "4  saudi arabia  mother moves to block child marr...   \n",
       "\n",
       "                                               Top22  \\\n",
       "0  caucasus in crisis  georgia invades south osse...   \n",
       "1   russia has just beaten the united states over...   \n",
       "2  all signs point to the us encouraging georgia ...   \n",
       "3  witness  russian forces head towards tbilisi i...   \n",
       "4     taliban wages war on humanitarian aid workers    \n",
       "\n",
       "                                               Top23  \\\n",
       "0  indian shoe manufactory    and again in a seri...   \n",
       "1  perhaps  the  question about the georgia   rus...   \n",
       "2  christopher king argues that the us and nato a...   \n",
       "3   quarter of russians blame u s  for conflict  ...   \n",
       "4  russia  world   can forget about  georgia  s t...   \n",
       "\n",
       "                                               Top24  \\\n",
       "0  visitors suffering from mental illnesses banne...   \n",
       "1                   russia is so much better at war    \n",
       "2                          america  the new mexico     \n",
       "3  georgian president  says us military will take...   \n",
       "4  darfur rebels accuse sudan of mounting major a...   \n",
       "\n",
       "                                               Top25  \n",
       "0             no help for mexico s kidnapping surge   \n",
       "1  so this is what it s come to  trading sex for ...  \n",
       "2  bbc news   asia pacific   extinction  by man n...  \n",
       "3        nobel laureate aleksander solzhenitsyn a...  \n",
       "4  philippines   peace advocate say muslims need ...  \n",
       "\n",
       "[5 rows x 27 columns]"
      ]
     },
     "execution_count": 4,
     "metadata": {},
     "output_type": "execute_result"
    }
   ],
   "source": [
    "df.replace(\"^b \",\"\",regex=True, inplace=True)\n",
    "df.head()"
   ]
  },
  {
   "cell_type": "code",
   "execution_count": 5,
   "metadata": {},
   "outputs": [
    {
     "data": {
      "text/plain": [
       "Date     0\n",
       "Label    0\n",
       "Top1     0\n",
       "Top2     0\n",
       "Top3     0\n",
       "Top4     0\n",
       "Top5     0\n",
       "Top6     0\n",
       "Top7     0\n",
       "Top8     0\n",
       "Top9     0\n",
       "Top10    0\n",
       "Top11    0\n",
       "Top12    0\n",
       "Top13    0\n",
       "Top14    0\n",
       "Top15    0\n",
       "Top16    0\n",
       "Top17    0\n",
       "Top18    0\n",
       "Top19    0\n",
       "Top20    0\n",
       "Top21    0\n",
       "Top22    0\n",
       "Top23    0\n",
       "Top24    0\n",
       "Top25    0\n",
       "dtype: int64"
      ]
     },
     "execution_count": 5,
     "metadata": {},
     "output_type": "execute_result"
    }
   ],
   "source": [
    "#remove NA and replace with empty string\n",
    "df.fillna(' ', inplace=True)\n",
    "df.isnull().sum()"
   ]
  },
  {
   "cell_type": "code",
   "execution_count": 6,
   "metadata": {},
   "outputs": [],
   "source": [
    "def mergeCol(row):\n",
    "    return ' '.join(row['Top1':'Top25'])\n",
    "df['headlines'] = df.apply(mergeCol, axis = 1)"
   ]
  },
  {
   "cell_type": "code",
   "execution_count": 7,
   "metadata": {},
   "outputs": [
    {
     "name": "stderr",
     "output_type": "stream",
     "text": [
      "Using TensorFlow backend.\n"
     ]
    }
   ],
   "source": [
    "from keras.models import Sequential\n",
    "from keras.layers import Dense, Embedding, LSTM, SpatialDropout1D\n",
    "from sklearn.model_selection import train_test_split\n",
    "from sklearn.feature_extraction.text import CountVectorizer\n",
    "from keras.preprocessing.text import Tokenizer\n",
    "from keras.preprocessing.sequence import pad_sequences\n",
    "from keras.utils.np_utils import to_categorical\n",
    "import re"
   ]
  },
  {
   "cell_type": "code",
   "execution_count": 8,
   "metadata": {},
   "outputs": [],
   "source": [
    "new_df = df[['Label','headlines']]"
   ]
  },
  {
   "cell_type": "code",
   "execution_count": 9,
   "metadata": {},
   "outputs": [],
   "source": [
    "tokenizer = Tokenizer(num_words=1500, split=' ')\n",
    "tokenizer.fit_on_texts(new_df['headlines'].values)\n",
    "X = tokenizer.texts_to_sequences(new_df['headlines'])\n",
    "X = pad_sequences(X)"
   ]
  },
  {
   "cell_type": "code",
   "execution_count": 10,
   "metadata": {},
   "outputs": [
    {
     "data": {
      "text/plain": [
       "(1989, 553)"
      ]
     },
     "execution_count": 10,
     "metadata": {},
     "output_type": "execute_result"
    }
   ],
   "source": [
    "X.shape"
   ]
  },
  {
   "cell_type": "code",
   "execution_count": 11,
   "metadata": {},
   "outputs": [],
   "source": [
    "from tensorflow.keras.utils import to_categorical\n",
    "y = to_categorical(new_df['Label'])"
   ]
  },
  {
   "cell_type": "code",
   "execution_count": 15,
   "metadata": {},
   "outputs": [],
   "source": [
    "train = df['Date'] < '2015-01-01'\n",
    "test = df['Date'] > '2014-12-31'\n",
    "\n",
    "X_train = X[train,:]\n",
    "X_test = X[test,:]\n",
    "y_train = y[train]\n",
    "y_test = y[test]"
   ]
  },
  {
   "cell_type": "code",
   "execution_count": 16,
   "metadata": {},
   "outputs": [],
   "source": [
    "embed_dim = 128\n",
    "\n",
    "lstm_out = 196\n",
    "vocabSize = 1500\n",
    "\n",
    "model = Sequential()\n",
    "model.add(Embedding(vocabSize, embed_dim,input_length = X.shape[1]))\n",
    "model.add(LSTM(lstm_out, dropout=0.1, recurrent_dropout=0.1))"
   ]
  },
  {
   "cell_type": "code",
   "execution_count": 17,
   "metadata": {},
   "outputs": [],
   "source": [
    "model.add(Dense(2,activation='softmax'))\n",
    "model.compile(loss = 'binary_crossentropy', optimizer='adam',metrics = ['accuracy'])"
   ]
  },
  {
   "cell_type": "code",
   "execution_count": 12,
   "metadata": {},
   "outputs": [],
   "source": [
    "#from sklearn.preprocessing import LabelEncoder\n",
    "#Le = LabelEncoder()\n",
    "#y = Le.fit_transform(new_df['Label'])"
   ]
  },
  {
   "cell_type": "code",
   "execution_count": 34,
   "metadata": {},
   "outputs": [
    {
     "name": "stdout",
     "output_type": "stream",
     "text": [
      "Epoch 1/10\n",
      "59/59 [==============================] - 110s 2s/step - loss: 0.6922 - accuracy: 0.5148 - val_loss: 0.6868 - val_accuracy: 0.5079\n",
      "Epoch 2/10\n",
      "59/59 [==============================] - 118s 2s/step - loss: 0.6481 - accuracy: 0.6597 - val_loss: 0.5627 - val_accuracy: 0.7116\n",
      "Epoch 3/10\n",
      "59/59 [==============================] - 126s 2s/step - loss: 0.4901 - accuracy: 0.7740 - val_loss: 0.4949 - val_accuracy: 0.7646\n",
      "Epoch 4/10\n",
      "59/59 [==============================] - 120s 2s/step - loss: 0.3296 - accuracy: 0.8513 - val_loss: 0.4637 - val_accuracy: 0.8254\n",
      "Epoch 5/10\n",
      "59/59 [==============================] - 113s 2s/step - loss: 0.1897 - accuracy: 0.9308 - val_loss: 0.5531 - val_accuracy: 0.8254\n",
      "Epoch 6/10\n",
      "59/59 [==============================] - 114s 2s/step - loss: 0.1096 - accuracy: 0.9603 - val_loss: 0.6004 - val_accuracy: 0.8545\n",
      "Epoch 7/10\n",
      "59/59 [==============================] - 114s 2s/step - loss: 0.0420 - accuracy: 0.9903 - val_loss: 0.7671 - val_accuracy: 0.8466\n",
      "Epoch 8/10\n",
      "59/59 [==============================] - 116s 2s/step - loss: 0.0176 - accuracy: 0.9984 - val_loss: 0.7987 - val_accuracy: 0.8545\n",
      "Epoch 9/10\n",
      "59/59 [==============================] - 115s 2s/step - loss: 0.0072 - accuracy: 0.9995 - val_loss: 0.9128 - val_accuracy: 0.8571\n",
      "Epoch 10/10\n",
      "59/59 [==============================] - 112s 2s/step - loss: 0.0067 - accuracy: 0.9989 - val_loss: 0.8502 - val_accuracy: 0.8598\n"
     ]
    },
    {
     "data": {
      "text/plain": [
       "<tensorflow.python.keras.callbacks.History at 0x224998d1af0>"
      ]
     },
     "execution_count": 34,
     "metadata": {},
     "output_type": "execute_result"
    }
   ],
   "source": [
    "model.fit(X_train, y_train,validation_data = (X_test,y_test),epochs = 10, batch_size=32)"
   ]
  },
  {
   "cell_type": "code",
   "execution_count": 35,
   "metadata": {},
   "outputs": [
    {
     "name": "stdout",
     "output_type": "stream",
     "text": [
      "12/12 [==============================] - 3s 217ms/step - loss: 0.8502 - accuracy: 0.8598\n"
     ]
    },
    {
     "data": {
      "text/plain": [
       "[0.8501939177513123, 0.8597883582115173]"
      ]
     },
     "execution_count": 35,
     "metadata": {},
     "output_type": "execute_result"
    }
   ],
   "source": [
    "model.evaluate(X_test,y_test)"
   ]
  },
  {
   "cell_type": "code",
   "execution_count": 1,
   "metadata": {},
   "outputs": [],
   "source": [
    "#from mlxtend.plotting import plot_decision_regions"
   ]
  },
  {
   "cell_type": "code",
   "execution_count": 18,
   "metadata": {},
   "outputs": [],
   "source": [
    "from sklearn.model_selection import GridSearchCV\n",
    "from keras.wrappers.scikit_learn import KerasClassifier"
   ]
  },
  {
   "cell_type": "code",
   "execution_count": 19,
   "metadata": {},
   "outputs": [],
   "source": [
    "def create_model(n=X.shape[1],embed_dim = 128,lstm_out = 300):\n",
    "\t# create model\n",
    "\tmodel = Sequential()\n",
    "\tmodel.add(Embedding(vocabSize, embed_dim,input_length = X.shape[1]))\n",
    "\tmodel.add(LSTM(lstm_out, dropout=0.1, recurrent_dropout=0.1))\n",
    "\t#model.add(Dense(1, activation='sigmoid'))\n",
    "\t# Compile model\n",
    "\t#model.compile(loss='binary_crossentropy', optimizer='adam', metrics=['accuracy'])\n",
    "\tmodel.add(Dense(2,activation='softmax'))\n",
    "\tmodel.compile(loss = 'binary_crossentropy', optimizer='adam',metrics = ['accuracy'])\n",
    "\treturn model"
   ]
  },
  {
   "cell_type": "code",
   "execution_count": null,
   "metadata": {},
   "outputs": [],
   "source": [
    "# seed = 7\n",
    "# np.random.seed(seed)\n",
    "\n",
    "# model = KerasClassifier(build_fn=create_model, epochs=10, batch_size=32,verbose=1)\n",
    "# # define the grid search parameters\n",
    "# embed_dim = [32, 64, 128, 256]\n",
    "# lstm_out = [100, 200, 300]\n",
    "# param_grid = dict(embed_dim=embed_dim, lstm_out=lstm_out)\n",
    "# grid = GridSearchCV(estimator=model, param_grid=param_grid, n_jobs=-1, cv=3)\n",
    "# grid_result = grid.fit(X_train, y_train)\n",
    "\n",
    "# # summarize results\n",
    "# print(\"Best: %f using %s\" % (grid_result.best_score_, grid_result.best_params_))\n",
    "# means = grid_result.cv_results_['mean_test_score']\n",
    "# stds = grid_result.cv_results_['std_test_score']\n",
    "# params = grid_result.cv_results_['params']\n",
    "# for mean, stdev, param in zip(means, stds, params):\n",
    "#     print(\"%f (%f) with: %r\" % (mean, stdev, param))"
   ]
  },
  {
   "cell_type": "code",
   "execution_count": 18,
   "metadata": {},
   "outputs": [
    {
     "name": "stdout",
     "output_type": "stream",
     "text": [
      "Epoch 1/10\n",
      "59/59 [==============================] - 26s 442ms/step - loss: 0.6918 - accuracy: 0.5287 - val_loss: 0.6907 - val_accuracy: 0.5079\n",
      "Epoch 2/10\n",
      "59/59 [==============================] - 27s 463ms/step - loss: 0.7381 - accuracy: 0.5523 - val_loss: 0.6651 - val_accuracy: 0.5635\n",
      "Epoch 3/10\n",
      "59/59 [==============================] - 42s 704ms/step - loss: 0.6398 - accuracy: 0.7096 - val_loss: 0.6158 - val_accuracy: 0.7169\n",
      "Epoch 4/10\n",
      "59/59 [==============================] - 32s 538ms/step - loss: 0.5376 - accuracy: 0.7740 - val_loss: 0.5332 - val_accuracy: 0.7513\n",
      "Epoch 5/10\n",
      "59/59 [==============================] - 31s 532ms/step - loss: 0.4079 - accuracy: 0.8368 - val_loss: 0.4663 - val_accuracy: 0.8095\n",
      "Epoch 6/10\n",
      "59/59 [==============================] - 35s 590ms/step - loss: 0.3067 - accuracy: 0.8867 - val_loss: 0.4573 - val_accuracy: 0.8254\n",
      "Epoch 7/10\n",
      "59/59 [==============================] - 33s 559ms/step - loss: 0.2105 - accuracy: 0.9254 - val_loss: 0.4708 - val_accuracy: 0.8545\n",
      "Epoch 8/10\n",
      "59/59 [==============================] - 36s 612ms/step - loss: 0.1348 - accuracy: 0.9614 - val_loss: 0.4779 - val_accuracy: 0.8545\n",
      "Epoch 9/10\n",
      "59/59 [==============================] - 37s 619ms/step - loss: 0.0832 - accuracy: 0.9801 - val_loss: 0.5580 - val_accuracy: 0.8598\n",
      "Epoch 10/10\n",
      "59/59 [==============================] - 37s 627ms/step - loss: 0.0641 - accuracy: 0.9828 - val_loss: 0.6217 - val_accuracy: 0.8545\n",
      "12/12 [==============================] - 1s 84ms/step - loss: 0.6217 - accuracy: 0.8545\n",
      "Epoch 1/10\n",
      "59/59 [==============================] - 127s 2s/step - loss: 0.6917 - accuracy: 0.5266 - val_loss: 0.6899 - val_accuracy: 0.5079\n",
      "Epoch 2/10\n",
      "59/59 [==============================] - 141s 2s/step - loss: 0.6725 - accuracy: 0.5845 - val_loss: 0.6533 - val_accuracy: 0.6534\n",
      "Epoch 3/10\n",
      "59/59 [==============================] - 127s 2s/step - loss: 0.5752 - accuracy: 0.7295 - val_loss: 0.5286 - val_accuracy: 0.7354\n",
      "Epoch 4/10\n",
      "59/59 [==============================] - 114s 2s/step - loss: 0.4334 - accuracy: 0.8009 - val_loss: 0.4907 - val_accuracy: 0.7698\n",
      "Epoch 5/10\n",
      "59/59 [==============================] - 116s 2s/step - loss: 0.3034 - accuracy: 0.8798 - val_loss: 0.4870 - val_accuracy: 0.8016\n",
      "Epoch 6/10\n",
      "59/59 [==============================] - 129s 2s/step - loss: 0.2074 - accuracy: 0.9291 - val_loss: 0.5196 - val_accuracy: 0.8228\n",
      "Epoch 7/10\n",
      "59/59 [==============================] - 138s 2s/step - loss: 0.1349 - accuracy: 0.9522 - val_loss: 0.5429 - val_accuracy: 0.8333\n",
      "Epoch 8/10\n",
      "59/59 [==============================] - 117s 2s/step - loss: 0.0942 - accuracy: 0.9737 - val_loss: 0.8542 - val_accuracy: 0.8386\n",
      "Epoch 9/10\n",
      "59/59 [==============================] - 117s 2s/step - loss: 0.0586 - accuracy: 0.9866 - val_loss: 0.8170 - val_accuracy: 0.8519\n",
      "Epoch 10/10\n",
      "59/59 [==============================] - 118s 2s/step - loss: 0.0389 - accuracy: 0.9903 - val_loss: 0.7138 - val_accuracy: 0.8466\n",
      "12/12 [==============================] - 4s 308ms/step - loss: 0.7138 - accuracy: 0.8466\n",
      "Epoch 1/10\n",
      "59/59 [==============================] - 314s 5s/step - loss: 0.6923 - accuracy: 0.5330 - val_loss: 0.6900 - val_accuracy: 0.5079\n",
      "Epoch 2/10\n",
      "59/59 [==============================] - 366s 6s/step - loss: 0.6832 - accuracy: 0.5738 - val_loss: 0.6655 - val_accuracy: 0.5952\n",
      "Epoch 3/10\n",
      "59/59 [==============================] - 368s 6s/step - loss: 0.6269 - accuracy: 0.6710 - val_loss: 0.5911 - val_accuracy: 0.7328\n",
      "Epoch 4/10\n",
      "59/59 [==============================] - 387s 7s/step - loss: 0.5036 - accuracy: 0.7574 - val_loss: 0.4899 - val_accuracy: 0.7831\n",
      "Epoch 5/10\n",
      "59/59 [==============================] - 445s 8s/step - loss: 0.3668 - accuracy: 0.8417 - val_loss: 0.4866 - val_accuracy: 0.8095\n",
      "Epoch 6/10\n",
      "59/59 [==============================] - 455s 8s/step - loss: 0.2449 - accuracy: 0.8948 - val_loss: 0.4541 - val_accuracy: 0.8280\n",
      "Epoch 7/10\n",
      "59/59 [==============================] - 464s 8s/step - loss: 0.1422 - accuracy: 0.9474 - val_loss: 0.4606 - val_accuracy: 0.8624\n",
      "Epoch 8/10\n",
      "59/59 [==============================] - 462s 8s/step - loss: 0.1158 - accuracy: 0.9597 - val_loss: 0.5241 - val_accuracy: 0.8730\n",
      "Epoch 9/10\n",
      "59/59 [==============================] - 434s 7s/step - loss: 0.0618 - accuracy: 0.9844 - val_loss: 0.6334 - val_accuracy: 0.8704\n",
      "Epoch 10/10\n",
      "59/59 [==============================] - 476s 8s/step - loss: 0.0408 - accuracy: 0.9925 - val_loss: 0.6783 - val_accuracy: 0.8704\n",
      "12/12 [==============================] - 16s 1s/step - loss: 0.6783 - accuracy: 0.8704\n",
      "Epoch 1/10\n",
      "59/59 [==============================] - 79s 1s/step - loss: 0.6918 - accuracy: 0.5325 - val_loss: 0.6862 - val_accuracy: 0.5053\n",
      "Epoch 2/10\n",
      "59/59 [==============================] - 65s 1s/step - loss: 0.6614 - accuracy: 0.6141 - val_loss: 0.6131 - val_accuracy: 0.7011\n",
      "Epoch 3/10\n",
      "59/59 [==============================] - 76s 1s/step - loss: 0.5186 - accuracy: 0.7638 - val_loss: 0.4924 - val_accuracy: 0.7857\n",
      "Epoch 4/10\n",
      "59/59 [==============================] - 74s 1s/step - loss: 0.3605 - accuracy: 0.8508 - val_loss: 0.4306 - val_accuracy: 0.8360\n",
      "Epoch 5/10\n",
      "59/59 [==============================] - 84s 1s/step - loss: 0.2410 - accuracy: 0.9114 - val_loss: 0.4666 - val_accuracy: 0.8386\n",
      "Epoch 6/10\n",
      "59/59 [==============================] - 75s 1s/step - loss: 0.1434 - accuracy: 0.9554 - val_loss: 0.5275 - val_accuracy: 0.8651\n",
      "Epoch 7/10\n",
      "59/59 [==============================] - 75s 1s/step - loss: 0.0899 - accuracy: 0.9705 - val_loss: 0.5596 - val_accuracy: 0.8677\n",
      "Epoch 8/10\n",
      "59/59 [==============================] - 67s 1s/step - loss: 0.0371 - accuracy: 0.9936 - val_loss: 0.7516 - val_accuracy: 0.8598\n",
      "Epoch 9/10\n",
      "59/59 [==============================] - 64s 1s/step - loss: 0.0315 - accuracy: 0.9952 - val_loss: 0.8131 - val_accuracy: 0.8624\n",
      "Epoch 10/10\n",
      "59/59 [==============================] - 64s 1s/step - loss: 0.0171 - accuracy: 0.9968 - val_loss: 0.8813 - val_accuracy: 0.8598\n",
      "12/12 [==============================] - 2s 162ms/step - loss: 0.8813 - accuracy: 0.8598\n",
      "Epoch 1/10\n",
      "59/59 [==============================] - 211s 4s/step - loss: 0.6924 - accuracy: 0.5314 - val_loss: 0.6874 - val_accuracy: 0.5106\n",
      "Epoch 2/10\n",
      "59/59 [==============================] - 200s 3s/step - loss: 0.6598 - accuracy: 0.6049 - val_loss: 0.5938 - val_accuracy: 0.6825\n",
      "Epoch 3/10\n",
      "59/59 [==============================] - 202s 3s/step - loss: 0.5353 - accuracy: 0.7332 - val_loss: 0.5055 - val_accuracy: 0.7487\n",
      "Epoch 4/10\n",
      "59/59 [==============================] - 205s 3s/step - loss: 0.3604 - accuracy: 0.8449 - val_loss: 0.4567 - val_accuracy: 0.8254\n",
      "Epoch 5/10\n",
      "59/59 [==============================] - 213s 4s/step - loss: 0.2071 - accuracy: 0.9227 - val_loss: 0.4933 - val_accuracy: 0.8360\n",
      "Epoch 6/10\n",
      "59/59 [==============================] - 207s 4s/step - loss: 0.0918 - accuracy: 0.9764 - val_loss: 0.6132 - val_accuracy: 0.8439\n",
      "Epoch 7/10\n",
      "59/59 [==============================] - 209s 4s/step - loss: 0.0529 - accuracy: 0.9855 - val_loss: 0.7070 - val_accuracy: 0.8466\n",
      "Epoch 8/10\n",
      "59/59 [==============================] - 264s 4s/step - loss: 0.0421 - accuracy: 0.9839 - val_loss: 0.6759 - val_accuracy: 0.8466\n",
      "Epoch 9/10\n",
      "59/59 [==============================] - 224s 4s/step - loss: 0.0276 - accuracy: 0.9936 - val_loss: 0.8317 - val_accuracy: 0.8519\n",
      "Epoch 10/10\n",
      "59/59 [==============================] - 261s 4s/step - loss: 0.0087 - accuracy: 0.9995 - val_loss: 0.8843 - val_accuracy: 0.8466\n",
      "12/12 [==============================] - 9s 713ms/step - loss: 0.8843 - accuracy: 0.8466\n",
      "Epoch 1/10\n",
      "59/59 [==============================] - 615s 10s/step - loss: 0.6924 - accuracy: 0.5276 - val_loss: 0.6887 - val_accuracy: 0.5079\n",
      "Epoch 2/10\n",
      "59/59 [==============================] - 517s 9s/step - loss: 0.6691 - accuracy: 0.5727 - val_loss: 0.6089 - val_accuracy: 0.6958\n",
      "Epoch 3/10\n",
      "59/59 [==============================] - 533s 9s/step - loss: 0.5434 - accuracy: 0.7413 - val_loss: 0.5116 - val_accuracy: 0.7593\n",
      "Epoch 4/10\n",
      "59/59 [==============================] - 540s 9s/step - loss: 0.3808 - accuracy: 0.8341 - val_loss: 0.4895 - val_accuracy: 0.7910\n",
      "Epoch 5/10\n",
      "59/59 [==============================] - 32942s 558s/step - loss: 0.2307 - accuracy: 0.9034 - val_loss: 0.4816 - val_accuracy: 0.8148\n"
     ]
    },
    {
     "name": "stdout",
     "output_type": "stream",
     "text": [
      "Epoch 6/10\n",
      "59/59 [==============================] - 580s 10s/step - loss: 0.1084 - accuracy: 0.9673 - val_loss: 0.7109 - val_accuracy: 0.8254\n",
      "Epoch 7/10\n",
      "59/59 [==============================] - 561s 10s/step - loss: 0.0588 - accuracy: 0.9823 - val_loss: 0.7506 - val_accuracy: 0.8413\n",
      "Epoch 8/10\n",
      "59/59 [==============================] - 568s 10s/step - loss: 0.0590 - accuracy: 0.9834 - val_loss: 0.7595 - val_accuracy: 0.8545\n",
      "Epoch 9/10\n",
      "59/59 [==============================] - 567s 10s/step - loss: 0.0170 - accuracy: 0.9968 - val_loss: 0.8595 - val_accuracy: 0.8545\n",
      "Epoch 10/10\n",
      "59/59 [==============================] - 570s 10s/step - loss: 0.0080 - accuracy: 1.0000 - val_loss: 1.0246 - val_accuracy: 0.8439\n",
      "12/12 [==============================] - 18s 1s/step - loss: 1.0246 - accuracy: 0.8439\n",
      "Epoch 1/10\n",
      "59/59 [==============================] - 46s 785ms/step - loss: 0.6920 - accuracy: 0.5271 - val_loss: 0.6885 - val_accuracy: 0.5079\n",
      "Epoch 2/10\n",
      "59/59 [==============================] - 45s 764ms/step - loss: 0.6482 - accuracy: 0.6184 - val_loss: 0.5543 - val_accuracy: 0.7302\n",
      "Epoch 3/10\n",
      "59/59 [==============================] - 47s 800ms/step - loss: 0.4801 - accuracy: 0.7729 - val_loss: 0.4558 - val_accuracy: 0.8148\n",
      "Epoch 4/10\n",
      "59/59 [==============================] - 47s 791ms/step - loss: 0.2903 - accuracy: 0.8808 - val_loss: 0.4515 - val_accuracy: 0.8413\n",
      "Epoch 5/10\n",
      "59/59 [==============================] - 46s 776ms/step - loss: 0.1452 - accuracy: 0.9522 - val_loss: 0.5221 - val_accuracy: 0.8413\n",
      "Epoch 6/10\n",
      "59/59 [==============================] - 46s 783ms/step - loss: 0.0742 - accuracy: 0.9775 - val_loss: 0.5417 - val_accuracy: 0.8571\n",
      "Epoch 7/10\n",
      "59/59 [==============================] - 45s 765ms/step - loss: 0.0354 - accuracy: 0.9925 - val_loss: 0.6638 - val_accuracy: 0.8783\n",
      "Epoch 8/10\n",
      "59/59 [==============================] - 45s 764ms/step - loss: 0.0207 - accuracy: 0.9946 - val_loss: 0.7810 - val_accuracy: 0.8492\n",
      "Epoch 9/10\n",
      "59/59 [==============================] - 45s 767ms/step - loss: 0.0152 - accuracy: 0.9979 - val_loss: 0.7699 - val_accuracy: 0.8571\n",
      "Epoch 10/10\n",
      "59/59 [==============================] - 46s 773ms/step - loss: 0.0092 - accuracy: 0.9979 - val_loss: 0.8388 - val_accuracy: 0.8598\n",
      "12/12 [==============================] - 2s 152ms/step - loss: 0.8388 - accuracy: 0.8598\n",
      "Epoch 1/10\n",
      "59/59 [==============================] - 147s 2s/step - loss: 0.6927 - accuracy: 0.5260 - val_loss: 0.6825 - val_accuracy: 0.5476\n",
      "Epoch 2/10\n",
      "59/59 [==============================] - 142s 2s/step - loss: 0.6390 - accuracy: 0.6441 - val_loss: 0.5491 - val_accuracy: 0.7275\n",
      "Epoch 3/10\n",
      "59/59 [==============================] - 145s 2s/step - loss: 0.4591 - accuracy: 0.7912 - val_loss: 0.5031 - val_accuracy: 0.7698\n",
      "Epoch 4/10\n",
      "59/59 [==============================] - 147s 2s/step - loss: 0.2881 - accuracy: 0.8841 - val_loss: 0.4895 - val_accuracy: 0.8042\n",
      "Epoch 5/10\n",
      "59/59 [==============================] - 143s 2s/step - loss: 0.1611 - accuracy: 0.9410 - val_loss: 0.5278 - val_accuracy: 0.8228\n",
      "Epoch 6/10\n",
      "59/59 [==============================] - 144s 2s/step - loss: 0.0797 - accuracy: 0.9807 - val_loss: 0.8027 - val_accuracy: 0.8333\n",
      "Epoch 7/10\n",
      "59/59 [==============================] - 144s 2s/step - loss: 0.0349 - accuracy: 0.9925 - val_loss: 0.8320 - val_accuracy: 0.8333\n",
      "Epoch 8/10\n",
      "59/59 [==============================] - 144s 2s/step - loss: 0.0139 - accuracy: 0.9973 - val_loss: 0.9217 - val_accuracy: 0.8466\n",
      "Epoch 9/10\n",
      "59/59 [==============================] - 147s 2s/step - loss: 0.0065 - accuracy: 0.9979 - val_loss: 0.9401 - val_accuracy: 0.8492\n",
      "Epoch 10/10\n",
      "59/59 [==============================] - 199s 3s/step - loss: 0.0079 - accuracy: 0.9984 - val_loss: 0.9869 - val_accuracy: 0.8413\n",
      "12/12 [==============================] - 11s 919ms/step - loss: 0.9869 - accuracy: 0.8413\n",
      "Epoch 1/10\n",
      "59/59 [==============================] - 252s 4s/step - loss: 0.6926 - accuracy: 0.5282 - val_loss: 0.6849 - val_accuracy: 0.6296\n",
      "Epoch 2/10\n",
      "59/59 [==============================] - 261s 4s/step - loss: 0.6344 - accuracy: 0.6490 - val_loss: 0.5663 - val_accuracy: 0.7275\n",
      "Epoch 3/10\n",
      "59/59 [==============================] - 244s 4s/step - loss: 6.8674 - accuracy: 0.5287 - val_loss: 7.7903 - val_accuracy: 0.4921\n",
      "Epoch 4/10\n",
      "59/59 [==============================] - 242s 4s/step - loss: 8.1913 - accuracy: 0.4659 - val_loss: 7.7903 - val_accuracy: 0.4921\n",
      "Epoch 5/10\n",
      "59/59 [==============================] - 241s 4s/step - loss: 8.1913 - accuracy: 0.4659 - val_loss: 7.7903 - val_accuracy: 0.4921\n",
      "Epoch 6/10\n",
      "59/59 [==============================] - 242s 4s/step - loss: 8.1913 - accuracy: 0.4659 - val_loss: 7.7903 - val_accuracy: 0.4921\n",
      "Epoch 7/10\n",
      "59/59 [==============================] - 246s 4s/step - loss: 8.1913 - accuracy: 0.4659 - val_loss: 7.7903 - val_accuracy: 0.4921\n",
      "Epoch 8/10\n",
      "59/59 [==============================] - 245s 4s/step - loss: 8.1913 - accuracy: 0.4659 - val_loss: 7.7903 - val_accuracy: 0.4921\n",
      "Epoch 9/10\n",
      "59/59 [==============================] - 244s 4s/step - loss: 8.1913 - accuracy: 0.4659 - val_loss: 7.7903 - val_accuracy: 0.4921\n",
      "Epoch 10/10\n",
      "59/59 [==============================] - 245s 4s/step - loss: 8.1913 - accuracy: 0.4659 - val_loss: 7.7903 - val_accuracy: 0.4921\n",
      "12/12 [==============================] - 10s 856ms/step - loss: 7.7903 - accuracy: 0.4921\n",
      "Epoch 1/10\n",
      "59/59 [==============================] - 190s 3s/step - loss: 0.6926 - accuracy: 0.5228 - val_loss: 0.6780 - val_accuracy: 0.5291\n",
      "Epoch 2/10\n",
      "59/59 [==============================] - 1292s 22s/step - loss: 0.6421 - accuracy: 0.6532 - val_loss: 0.5518 - val_accuracy: 0.7566\n",
      "Epoch 3/10\n",
      "59/59 [==============================] - 173s 3s/step - loss: 0.4461 - accuracy: 0.7960 - val_loss: 0.4521 - val_accuracy: 0.8175\n",
      "Epoch 4/10\n",
      "59/59 [==============================] - 176s 3s/step - loss: 0.2602 - accuracy: 0.8991 - val_loss: 0.4188 - val_accuracy: 0.8466\n",
      "Epoch 5/10\n",
      "59/59 [==============================] - 180s 3s/step - loss: 0.1075 - accuracy: 0.9716 - val_loss: 0.4840 - val_accuracy: 0.8677\n",
      "Epoch 6/10\n",
      "59/59 [==============================] - 185s 3s/step - loss: 0.0600 - accuracy: 0.9850 - val_loss: 0.5681 - val_accuracy: 0.8545\n",
      "Epoch 7/10\n",
      "59/59 [==============================] - 185s 3s/step - loss: 0.0195 - accuracy: 0.9973 - val_loss: 0.6711 - val_accuracy: 0.8677\n",
      "Epoch 8/10\n",
      "59/59 [==============================] - 189s 3s/step - loss: 0.0082 - accuracy: 0.9984 - val_loss: 0.7143 - val_accuracy: 0.8651\n",
      "Epoch 9/10\n",
      "59/59 [==============================] - 185s 3s/step - loss: 0.0104 - accuracy: 0.9995 - val_loss: 0.7724 - val_accuracy: 0.8598\n",
      "Epoch 10/10\n",
      "59/59 [==============================] - 183s 3s/step - loss: 0.0032 - accuracy: 1.0000 - val_loss: 0.8063 - val_accuracy: 0.8677\n",
      "12/12 [==============================] - 3s 257ms/step - loss: 0.8063 - accuracy: 0.8677\n",
      "Epoch 1/10\n",
      "59/59 [==============================] - 375s 6s/step - loss: 0.6935 - accuracy: 0.5174 - val_loss: 0.6795 - val_accuracy: 0.5370\n",
      "Epoch 2/10\n",
      "59/59 [==============================] - 383s 6s/step - loss: 0.6246 - accuracy: 0.6957 - val_loss: 0.5578 - val_accuracy: 0.7196\n",
      "Epoch 3/10\n",
      "59/59 [==============================] - 388s 7s/step - loss: 0.4354 - accuracy: 0.8003 - val_loss: 0.4839 - val_accuracy: 0.7778\n",
      "Epoch 4/10\n",
      "59/59 [==============================] - 392s 7s/step - loss: 0.2637 - accuracy: 0.9045 - val_loss: 0.5087 - val_accuracy: 0.8360\n",
      "Epoch 5/10\n",
      "59/59 [==============================] - 392s 7s/step - loss: 0.1107 - accuracy: 0.9656 - val_loss: 0.6207 - val_accuracy: 0.8492\n",
      "Epoch 6/10\n",
      "59/59 [==============================] - 397s 7s/step - loss: 0.0319 - accuracy: 0.9957 - val_loss: 0.7687 - val_accuracy: 0.8413\n",
      "Epoch 7/10\n",
      "59/59 [==============================] - 405s 7s/step - loss: 0.0160 - accuracy: 0.9979 - val_loss: 0.8970 - val_accuracy: 0.8413\n",
      "Epoch 8/10\n",
      "59/59 [==============================] - 404s 7s/step - loss: 0.0159 - accuracy: 0.9968 - val_loss: 0.9010 - val_accuracy: 0.8333\n",
      "Epoch 9/10\n",
      "59/59 [==============================] - 1060s 18s/step - loss: 0.0090 - accuracy: 0.9984 - val_loss: 0.9465 - val_accuracy: 0.8571\n",
      "Epoch 10/10\n",
      "59/59 [==============================] - 389s 7s/step - loss: 0.0024 - accuracy: 1.0000 - val_loss: 1.0038 - val_accuracy: 0.8492\n"
     ]
    },
    {
     "name": "stdout",
     "output_type": "stream",
     "text": [
      "12/12 [==============================] - 11s 932ms/step - loss: 1.0038 - accuracy: 0.8492\n",
      "Epoch 1/10\n",
      "59/59 [==============================] - 790s 13s/step - loss: 0.6922 - accuracy: 0.5212 - val_loss: 0.6737 - val_accuracy: 0.6217\n",
      "Epoch 2/10\n",
      "59/59 [==============================] - 2714s 46s/step - loss: 0.6564 - accuracy: 0.6742 - val_loss: 0.6056 - val_accuracy: 0.6878\n",
      "Epoch 3/10\n",
      "59/59 [==============================] - 849s 14s/step - loss: 0.5182 - accuracy: 0.7606 - val_loss: 0.4869 - val_accuracy: 0.7672\n",
      "Epoch 4/10\n",
      "59/59 [==============================] - 861s 15s/step - loss: 0.3505 - accuracy: 0.8492 - val_loss: 0.4306 - val_accuracy: 0.8307\n",
      "Epoch 5/10\n",
      "59/59 [==============================] - 882s 15s/step - loss: 0.1799 - accuracy: 0.9367 - val_loss: 0.4951 - val_accuracy: 0.8413\n",
      "Epoch 6/10\n",
      "59/59 [==============================] - 1078s 18s/step - loss: 0.0727 - accuracy: 0.9812 - val_loss: 0.6680 - val_accuracy: 0.8624\n",
      "Epoch 7/10\n",
      "59/59 [==============================] - 895s 15s/step - loss: 0.0434 - accuracy: 0.9887 - val_loss: 0.7232 - val_accuracy: 0.8519\n",
      "Epoch 8/10\n",
      "59/59 [==============================] - 897s 15s/step - loss: 0.0147 - accuracy: 0.9973 - val_loss: 0.9070 - val_accuracy: 0.8598\n",
      "Epoch 9/10\n",
      "59/59 [==============================] - 911s 15s/step - loss: 0.0044 - accuracy: 0.9995 - val_loss: 0.9854 - val_accuracy: 0.8571\n",
      "Epoch 10/10\n",
      "59/59 [==============================] - 911s 15s/step - loss: 0.0011 - accuracy: 1.0000 - val_loss: 1.0822 - val_accuracy: 0.8571\n",
      "12/12 [==============================] - 33s 3s/step - loss: 1.0822 - accuracy: 0.8571\n"
     ]
    }
   ],
   "source": [
    "# embed_dim = [32, 64, 128, 256]\n",
    "# lstm_out = [100, 200, 300]\n",
    "# accx = []\n",
    "# for e in embed_dim:\n",
    "#     for ls in lstm_out:\n",
    "#         model = create_model(n=X.shape[1],embed_dim = e,lstm_out = ls)\n",
    "#         model.fit(X_train, y_train,validation_data = (X_test,y_test),epochs = 10, batch_size=32)\n",
    "#         accx.append(model.evaluate(X_test,y_test)[1])"
   ]
  },
  {
   "cell_type": "code",
   "execution_count": 29,
   "metadata": {},
   "outputs": [],
   "source": [
    "import matplotlib.pyplot as plt"
   ]
  },
  {
   "cell_type": "code",
   "execution_count": 30,
   "metadata": {},
   "outputs": [
    {
     "data": {
      "text/plain": [
       "[<matplotlib.lines.Line2D at 0x1cc7b84d1c0>]"
      ]
     },
     "execution_count": 30,
     "metadata": {},
     "output_type": "execute_result"
    },
    {
     "data": {
      "image/png": "[encoded data removed]",
      "text/plain": [
       "<Figure size 432x288 with 1 Axes>"
      ]
     },
     "metadata": {
      "needs_background": "light"
     },
     "output_type": "display_data"
    }
   ],
   "source": [
    "# plt.plot(accx)"
   ]
  },
  {
   "cell_type": "code",
   "execution_count": 31,
   "metadata": {},
   "outputs": [
    {
     "data": {
      "text/plain": [
       "[0.8544973731040955,\n",
       " 0.8465608358383179,\n",
       " 0.8703703880310059,\n",
       " 0.8597883582115173,\n",
       " 0.8465608358383179,\n",
       " 0.8439153432846069,\n",
       " 0.8597883582115173,\n",
       " 0.841269850730896,\n",
       " 0.4920634925365448,\n",
       " 0.8677248954772949,\n",
       " 0.8492063283920288,\n",
       " 0.8571428656578064]"
      ]
     },
     "execution_count": 31,
     "metadata": {},
     "output_type": "execute_result"
    }
   ],
   "source": [
    "# accx"
   ]
  },
  {
   "cell_type": "code",
   "execution_count": 35,
   "metadata": {},
   "outputs": [
    {
     "data": {
      "text/html": [
       "<div>\n",
       "<style scoped>\n",
       "    .dataframe tbody tr th:only-of-type {\n",
       "        vertical-align: middle;\n",
       "    }\n",
       "\n",
       "    .dataframe tbody tr th {\n",
       "        vertical-align: top;\n",
       "    }\n",
       "\n",
       "    .dataframe thead th {\n",
       "        text-align: right;\n",
       "    }\n",
       "</style>\n",
       "<table border=\"1\" class=\"dataframe\">\n",
       "  <thead>\n",
       "    <tr style=\"text-align: right;\">\n",
       "      <th></th>\n",
       "      <th>100</th>\n",
       "      <th>200</th>\n",
       "      <th>300</th>\n",
       "    </tr>\n",
       "  </thead>\n",
       "  <tbody>\n",
       "    <tr>\n",
       "      <th>32</th>\n",
       "      <td>0.854497</td>\n",
       "      <td>0.846561</td>\n",
       "      <td>0.870370</td>\n",
       "    </tr>\n",
       "    <tr>\n",
       "      <th>64</th>\n",
       "      <td>0.859788</td>\n",
       "      <td>0.846561</td>\n",
       "      <td>0.843915</td>\n",
       "    </tr>\n",
       "    <tr>\n",
       "      <th>128</th>\n",
       "      <td>0.859788</td>\n",
       "      <td>0.841270</td>\n",
       "      <td>0.492063</td>\n",
       "    </tr>\n",
       "    <tr>\n",
       "      <th>256</th>\n",
       "      <td>0.867725</td>\n",
       "      <td>0.849206</td>\n",
       "      <td>0.857143</td>\n",
       "    </tr>\n",
       "  </tbody>\n",
       "</table>\n",
       "</div>"
      ],
      "text/plain": [
       "          100       200       300\n",
       "32   0.854497  0.846561  0.870370\n",
       "64   0.859788  0.846561  0.843915\n",
       "128  0.859788  0.841270  0.492063\n",
       "256  0.867725  0.849206  0.857143"
      ]
     },
     "execution_count": 35,
     "metadata": {},
     "output_type": "execute_result"
    }
   ],
   "source": [
    "# pd.DataFrame(data = np.array(accx).reshape((4,3)), columns= lstm_out, index = embed_dim)"
   ]
  },
  {
   "cell_type": "code",
   "execution_count": 20,
   "metadata": {},
   "outputs": [],
   "source": [
    "batch_size = [20, 40, 60]\n",
    "epochs = [5,10]"
   ]
  },
  {
   "cell_type": "code",
   "execution_count": 21,
   "metadata": {
    "scrolled": true
   },
   "outputs": [
    {
     "name": "stdout",
     "output_type": "stream",
     "text": [
      "Batch size= 20\n"
     ]
    },
    {
     "name": "stderr",
     "output_type": "stream",
     "text": [
      "C:\\Users\\j88796\\AppData\\Local\\Continuum\\anaconda3\\envs\\poa\\lib\\site-packages\\tensorflow_core\\python\\framework\\indexed_slices.py:433: UserWarning: Converting sparse IndexedSlices to a dense Tensor of unknown shape. This may consume a large amount of memory.\n",
      "  \"Converting sparse IndexedSlices to a dense Tensor of unknown shape. \"\n"
     ]
    },
    {
     "name": "stdout",
     "output_type": "stream",
     "text": [
      "Train on 1611 samples, validate on 378 samples\n",
      "Epoch 1/5\n",
      "1611/1611 [==============================] - 37s 23ms/step - loss: 0.6919 - accuracy: 0.5307 - val_loss: 0.6921 - val_accuracy: 0.4921\n",
      "Epoch 2/5\n",
      "1611/1611 [==============================] - 36s 23ms/step - loss: 0.6110 - accuracy: 0.6946 - val_loss: 0.7660 - val_accuracy: 0.5291\n",
      "Epoch 3/5\n",
      "1611/1611 [==============================] - 35s 22ms/step - loss: 0.3874 - accuracy: 0.8355 - val_loss: 0.9040 - val_accuracy: 0.5423\n",
      "Epoch 4/5\n",
      "1611/1611 [==============================] - 35s 22ms/step - loss: 0.1892 - accuracy: 0.9448 - val_loss: 1.3917 - val_accuracy: 0.5212\n",
      "Epoch 5/5\n",
      "1611/1611 [==============================] - 35s 22ms/step - loss: 0.0826 - accuracy: 0.9770 - val_loss: 1.7249 - val_accuracy: 0.5450\n",
      "378/378 [==============================] - 2s 5ms/step\n"
     ]
    },
    {
     "name": "stderr",
     "output_type": "stream",
     "text": [
      "C:\\Users\\j88796\\AppData\\Local\\Continuum\\anaconda3\\envs\\poa\\lib\\site-packages\\tensorflow_core\\python\\framework\\indexed_slices.py:433: UserWarning: Converting sparse IndexedSlices to a dense Tensor of unknown shape. This may consume a large amount of memory.\n",
      "  \"Converting sparse IndexedSlices to a dense Tensor of unknown shape. \"\n"
     ]
    },
    {
     "name": "stdout",
     "output_type": "stream",
     "text": [
      "Train on 1611 samples, validate on 378 samples\n",
      "Epoch 1/10\n",
      "1611/1611 [==============================] - 36s 22ms/step - loss: 0.6918 - accuracy: 0.5208 - val_loss: 0.6929 - val_accuracy: 0.5053\n",
      "Epoch 2/10\n",
      "1611/1611 [==============================] - 35s 22ms/step - loss: 0.5993 - accuracy: 0.6766 - val_loss: 0.7087 - val_accuracy: 0.5688\n",
      "Epoch 3/10\n",
      "1611/1611 [==============================] - 35s 22ms/step - loss: 0.3731 - accuracy: 0.8529 - val_loss: 0.9394 - val_accuracy: 0.5106\n",
      "Epoch 4/10\n",
      "1611/1611 [==============================] - 35s 22ms/step - loss: 0.1913 - accuracy: 0.9336 - val_loss: 1.3471 - val_accuracy: 0.5370\n",
      "Epoch 5/10\n",
      "1611/1611 [==============================] - 35s 21ms/step - loss: 0.0944 - accuracy: 0.9677 - val_loss: 1.6331 - val_accuracy: 0.5291\n",
      "Epoch 6/10\n",
      "1611/1611 [==============================] - 35s 22ms/step - loss: 0.0339 - accuracy: 0.9932 - val_loss: 2.1521 - val_accuracy: 0.5079\n",
      "Epoch 7/10\n",
      "1611/1611 [==============================] - 35s 22ms/step - loss: 0.0167 - accuracy: 0.9975 - val_loss: 2.0194 - val_accuracy: 0.5450\n",
      "Epoch 8/10\n",
      "1611/1611 [==============================] - 35s 22ms/step - loss: 0.0074 - accuracy: 0.9988 - val_loss: 2.6621 - val_accuracy: 0.5106\n",
      "Epoch 9/10\n",
      "1611/1611 [==============================] - 35s 22ms/step - loss: 0.0095 - accuracy: 0.9969 - val_loss: 2.4512 - val_accuracy: 0.5344\n",
      "Epoch 10/10\n",
      "1611/1611 [==============================] - 36s 22ms/step - loss: 0.0313 - accuracy: 0.9901 - val_loss: 2.3033 - val_accuracy: 0.5185\n",
      "378/378 [==============================] - 2s 5ms/step\n",
      "Batch size= 40\n"
     ]
    },
    {
     "name": "stderr",
     "output_type": "stream",
     "text": [
      "C:\\Users\\j88796\\AppData\\Local\\Continuum\\anaconda3\\envs\\poa\\lib\\site-packages\\tensorflow_core\\python\\framework\\indexed_slices.py:433: UserWarning: Converting sparse IndexedSlices to a dense Tensor of unknown shape. This may consume a large amount of memory.\n",
      "  \"Converting sparse IndexedSlices to a dense Tensor of unknown shape. \"\n"
     ]
    },
    {
     "name": "stdout",
     "output_type": "stream",
     "text": [
      "Train on 1611 samples, validate on 378 samples\n",
      "Epoch 1/5\n",
      "1611/1611 [==============================] - 38s 24ms/step - loss: 0.6903 - accuracy: 0.5382 - val_loss: 0.6893 - val_accuracy: 0.5265\n",
      "Epoch 2/5\n",
      "1611/1611 [==============================] - 39s 24ms/step - loss: 0.6238 - accuracy: 0.6878 - val_loss: 0.7253 - val_accuracy: 0.5582\n",
      "Epoch 3/5\n",
      "1611/1611 [==============================] - 40s 25ms/step - loss: 0.4554 - accuracy: 0.7945 - val_loss: 0.8649 - val_accuracy: 0.5529\n",
      "Epoch 4/5\n",
      "1611/1611 [==============================] - 40s 25ms/step - loss: 0.3191 - accuracy: 0.8734 - val_loss: 1.0275 - val_accuracy: 0.5317\n",
      "Epoch 5/5\n",
      "1611/1611 [==============================] - 43s 27ms/step - loss: 0.1675 - accuracy: 0.9497 - val_loss: 1.3167 - val_accuracy: 0.5317\n",
      "378/378 [==============================] - 3s 8ms/step\n"
     ]
    },
    {
     "name": "stderr",
     "output_type": "stream",
     "text": [
      "C:\\Users\\j88796\\AppData\\Local\\Continuum\\anaconda3\\envs\\poa\\lib\\site-packages\\tensorflow_core\\python\\framework\\indexed_slices.py:433: UserWarning: Converting sparse IndexedSlices to a dense Tensor of unknown shape. This may consume a large amount of memory.\n",
      "  \"Converting sparse IndexedSlices to a dense Tensor of unknown shape. \"\n"
     ]
    },
    {
     "name": "stdout",
     "output_type": "stream",
     "text": [
      "Train on 1611 samples, validate on 378 samples\n",
      "Epoch 1/10\n",
      "1611/1611 [==============================] - 40s 25ms/step - loss: 0.6915 - accuracy: 0.5320 - val_loss: 0.6924 - val_accuracy: 0.5159\n",
      "Epoch 2/10\n",
      "1611/1611 [==============================] - 41s 25ms/step - loss: 0.6626 - accuracy: 0.6412 - val_loss: 0.7310 - val_accuracy: 0.5000\n",
      "Epoch 3/10\n",
      "1611/1611 [==============================] - 41s 25ms/step - loss: 0.4940 - accuracy: 0.7840 - val_loss: 0.8378 - val_accuracy: 0.5423\n",
      "Epoch 4/10\n",
      "1611/1611 [==============================] - 42s 26ms/step - loss: 0.3188 - accuracy: 0.8833 - val_loss: 0.9922 - val_accuracy: 0.5265\n",
      "Epoch 5/10\n",
      "1611/1611 [==============================] - 42s 26ms/step - loss: 0.1802 - accuracy: 0.9404 - val_loss: 1.3155 - val_accuracy: 0.5423\n",
      "Epoch 6/10\n",
      "1611/1611 [==============================] - 43s 27ms/step - loss: 0.1004 - accuracy: 0.9745 - val_loss: 1.6121 - val_accuracy: 0.5265\n",
      "Epoch 7/10\n",
      "1611/1611 [==============================] - 43s 27ms/step - loss: 0.0458 - accuracy: 0.9938 - val_loss: 1.8592 - val_accuracy: 0.5317\n",
      "Epoch 8/10\n",
      "1611/1611 [==============================] - 43s 27ms/step - loss: 0.0186 - accuracy: 0.9994 - val_loss: 2.1639 - val_accuracy: 0.5132\n",
      "Epoch 9/10\n",
      "1611/1611 [==============================] - 43s 27ms/step - loss: 0.0118 - accuracy: 0.9975 - val_loss: 2.3010 - val_accuracy: 0.5079\n",
      "Epoch 10/10\n",
      "1611/1611 [==============================] - 43s 26ms/step - loss: 0.0100 - accuracy: 0.9994 - val_loss: 2.4069 - val_accuracy: 0.5159\n",
      "378/378 [==============================] - 3s 8ms/step\n",
      "Batch size= 60\n"
     ]
    },
    {
     "name": "stderr",
     "output_type": "stream",
     "text": [
      "C:\\Users\\j88796\\AppData\\Local\\Continuum\\anaconda3\\envs\\poa\\lib\\site-packages\\tensorflow_core\\python\\framework\\indexed_slices.py:433: UserWarning: Converting sparse IndexedSlices to a dense Tensor of unknown shape. This may consume a large amount of memory.\n",
      "  \"Converting sparse IndexedSlices to a dense Tensor of unknown shape. \"\n"
     ]
    },
    {
     "name": "stdout",
     "output_type": "stream",
     "text": [
      "Train on 1611 samples, validate on 378 samples\n",
      "Epoch 1/5\n",
      "1611/1611 [==============================] - 40s 25ms/step - loss: 0.6916 - accuracy: 0.5345 - val_loss: 0.6921 - val_accuracy: 0.5132\n",
      "Epoch 2/5\n",
      "1611/1611 [==============================] - 41s 25ms/step - loss: 0.6453 - accuracy: 0.6760 - val_loss: 0.7211 - val_accuracy: 0.5159\n",
      "Epoch 3/5\n",
      "1611/1611 [==============================] - 41s 25ms/step - loss: 0.5365 - accuracy: 0.7579 - val_loss: 0.7358 - val_accuracy: 0.5556\n",
      "Epoch 4/5\n",
      "1611/1611 [==============================] - 41s 25ms/step - loss: 0.4104 - accuracy: 0.8355 - val_loss: 0.8673 - val_accuracy: 0.5608\n",
      "Epoch 5/5\n",
      "1611/1611 [==============================] - 41s 26ms/step - loss: 0.2722 - accuracy: 0.9032 - val_loss: 1.0578 - val_accuracy: 0.5608\n",
      "378/378 [==============================] - 4s 9ms/step\n"
     ]
    },
    {
     "name": "stderr",
     "output_type": "stream",
     "text": [
      "C:\\Users\\j88796\\AppData\\Local\\Continuum\\anaconda3\\envs\\poa\\lib\\site-packages\\tensorflow_core\\python\\framework\\indexed_slices.py:433: UserWarning: Converting sparse IndexedSlices to a dense Tensor of unknown shape. This may consume a large amount of memory.\n",
      "  \"Converting sparse IndexedSlices to a dense Tensor of unknown shape. \"\n"
     ]
    },
    {
     "name": "stdout",
     "output_type": "stream",
     "text": [
      "Train on 1611 samples, validate on 378 samples\n",
      "Epoch 1/10\n",
      "1611/1611 [==============================] - 39s 24ms/step - loss: 0.6914 - accuracy: 0.5388 - val_loss: 0.6935 - val_accuracy: 0.5053\n",
      "Epoch 2/10\n",
      "1611/1611 [==============================] - 39s 24ms/step - loss: 0.6509 - accuracy: 0.6145 - val_loss: 0.7198 - val_accuracy: 0.4894\n",
      "Epoch 3/10\n",
      "1611/1611 [==============================] - 39s 24ms/step - loss: 0.4843 - accuracy: 0.7846 - val_loss: 0.7687 - val_accuracy: 0.5159\n",
      "Epoch 4/10\n",
      "1611/1611 [==============================] - 39s 24ms/step - loss: 0.3254 - accuracy: 0.8665 - val_loss: 0.9327 - val_accuracy: 0.5238\n",
      "Epoch 5/10\n",
      "1611/1611 [==============================] - 39s 24ms/step - loss: 0.2098 - accuracy: 0.9311 - val_loss: 1.1912 - val_accuracy: 0.5238\n",
      "Epoch 6/10\n",
      "1611/1611 [==============================] - 39s 24ms/step - loss: 0.1129 - accuracy: 0.9671 - val_loss: 1.7409 - val_accuracy: 0.5053\n",
      "Epoch 7/10\n",
      "1611/1611 [==============================] - 39s 24ms/step - loss: 0.0623 - accuracy: 0.9870 - val_loss: 2.0278 - val_accuracy: 0.5159\n",
      "Epoch 8/10\n",
      "1611/1611 [==============================] - 39s 24ms/step - loss: 0.0334 - accuracy: 0.9926 - val_loss: 2.0621 - val_accuracy: 0.5079\n",
      "Epoch 9/10\n",
      "1611/1611 [==============================] - 39s 24ms/step - loss: 0.0186 - accuracy: 0.9963 - val_loss: 2.4201 - val_accuracy: 0.4947\n",
      "Epoch 10/10\n",
      "1611/1611 [==============================] - 39s 24ms/step - loss: 0.0129 - accuracy: 0.9981 - val_loss: 2.5211 - val_accuracy: 0.4762\n",
      "378/378 [==============================] - 3s 9ms/step\n"
     ]
    }
   ],
   "source": [
    "accy = []\n",
    "for e in batch_size:\n",
    "    print(f'Batch size= {e}')\n",
    "    for ls in epochs:\n",
    "        model = create_model(n=X.shape[1],embed_dim = 256,lstm_out = 100)\n",
    "        model.fit(X_train, y_train,validation_data = (X_test,y_test),epochs = ls, batch_size=e)\n",
    "        accy.append(model.evaluate(X_test,y_test)[1])"
   ]
  },
  {
   "cell_type": "code",
   "execution_count": 22,
   "metadata": {},
   "outputs": [
    {
     "data": {
      "text/plain": [
       "[0.5449735522270203,\n",
       " 0.5185185074806213,\n",
       " 0.5317460298538208,\n",
       " 0.5158730149269104,\n",
       " 0.5608465671539307,\n",
       " 0.4761904776096344]"
      ]
     },
     "execution_count": 22,
     "metadata": {},
     "output_type": "execute_result"
    }
   ],
   "source": [
    "accy"
   ]
  },
  {
   "cell_type": "code",
   "execution_count": 23,
   "metadata": {},
   "outputs": [
    {
     "name": "stdout",
     "output_type": "stream",
     "text": [
      "Batch size= 10\n"
     ]
    },
    {
     "name": "stderr",
     "output_type": "stream",
     "text": [
      "C:\\Users\\j88796\\AppData\\Local\\Continuum\\anaconda3\\envs\\poa\\lib\\site-packages\\tensorflow_core\\python\\framework\\indexed_slices.py:433: UserWarning: Converting sparse IndexedSlices to a dense Tensor of unknown shape. This may consume a large amount of memory.\n",
      "  \"Converting sparse IndexedSlices to a dense Tensor of unknown shape. \"\n"
     ]
    },
    {
     "name": "stdout",
     "output_type": "stream",
     "text": [
      "Train on 1611 samples, validate on 378 samples\n",
      "Epoch 1/5\n",
      "1611/1611 [==============================] - 67s 42ms/step - loss: 0.6914 - accuracy: 0.5301 - val_loss: 0.6936 - val_accuracy: 0.5185\n",
      "Epoch 2/5\n",
      "1611/1611 [==============================] - 70s 44ms/step - loss: 0.5971 - accuracy: 0.6741 - val_loss: 0.7664 - val_accuracy: 0.5450\n",
      "Epoch 3/5\n",
      "1611/1611 [==============================] - 69s 43ms/step - loss: 0.3816 - accuracy: 0.8330 - val_loss: 0.9834 - val_accuracy: 0.5238\n",
      "Epoch 4/5\n",
      "1611/1611 [==============================] - 69s 43ms/step - loss: 0.1921 - accuracy: 0.9367 - val_loss: 1.2918 - val_accuracy: 0.5397\n",
      "Epoch 5/5\n",
      "1611/1611 [==============================] - 69s 43ms/step - loss: 0.0869 - accuracy: 0.9714 - val_loss: 1.8058 - val_accuracy: 0.5106\n",
      "378/378 [==============================] - 3s 9ms/step\n"
     ]
    },
    {
     "name": "stderr",
     "output_type": "stream",
     "text": [
      "C:\\Users\\j88796\\AppData\\Local\\Continuum\\anaconda3\\envs\\poa\\lib\\site-packages\\tensorflow_core\\python\\framework\\indexed_slices.py:433: UserWarning: Converting sparse IndexedSlices to a dense Tensor of unknown shape. This may consume a large amount of memory.\n",
      "  \"Converting sparse IndexedSlices to a dense Tensor of unknown shape. \"\n"
     ]
    },
    {
     "name": "stdout",
     "output_type": "stream",
     "text": [
      "Train on 1611 samples, validate on 378 samples\n",
      "Epoch 1/10\n",
      "1611/1611 [==============================] - 67s 42ms/step - loss: 0.6920 - accuracy: 0.5220 - val_loss: 0.6918 - val_accuracy: 0.5159\n",
      "Epoch 2/10\n",
      "1611/1611 [==============================] - 68s 42ms/step - loss: 0.5973 - accuracy: 0.7107 - val_loss: 0.7371 - val_accuracy: 0.5265\n",
      "Epoch 3/10\n",
      "1611/1611 [==============================] - 68s 42ms/step - loss: 0.3681 - accuracy: 0.8510 - val_loss: 0.9428 - val_accuracy: 0.5556\n",
      "Epoch 4/10\n",
      "1611/1611 [==============================] - 68s 42ms/step - loss: 0.1929 - accuracy: 0.9317 - val_loss: 1.3014 - val_accuracy: 0.5370\n",
      "Epoch 5/10\n",
      "1611/1611 [==============================] - 67s 42ms/step - loss: 0.0738 - accuracy: 0.9764 - val_loss: 1.9105 - val_accuracy: 0.5370\n",
      "Epoch 6/10\n",
      "1611/1611 [==============================] - 107s 66ms/step - loss: 0.0264 - accuracy: 0.9944 - val_loss: 2.2200 - val_accuracy: 0.5185\n",
      "Epoch 7/10\n",
      "1611/1611 [==============================] - 131s 82ms/step - loss: 0.0062 - accuracy: 0.9988 - val_loss: 2.6016 - val_accuracy: 0.5000\n",
      "Epoch 8/10\n",
      "1611/1611 [==============================] - 132s 82ms/step - loss: 0.0034 - accuracy: 1.0000 - val_loss: 2.7881 - val_accuracy: 0.5185\n",
      "Epoch 9/10\n",
      "1611/1611 [==============================] - 83s 51ms/step - loss: 0.0020 - accuracy: 1.0000 - val_loss: 2.9292 - val_accuracy: 0.5079\n",
      "Epoch 10/10\n",
      "1611/1611 [==============================] - 69s 43ms/step - loss: 6.6841e-04 - accuracy: 1.0000 - val_loss: 3.2207 - val_accuracy: 0.4815\n",
      "378/378 [==============================] - 3s 9ms/step\n"
     ]
    }
   ],
   "source": [
    "batch_size = [10]\n",
    "epochs = [5,10]\n",
    "b10accy = []\n",
    "for e in batch_size:\n",
    "    print(f'Batch size= {e}')\n",
    "    for ls in epochs:\n",
    "        model = create_model(n=X.shape[1],embed_dim = 256,lstm_out = 100)\n",
    "        model.fit(X_train, y_train,validation_data = (X_test,y_test),epochs = ls, batch_size=e)\n",
    "        b10accy.append(model.evaluate(X_test,y_test)[1])"
   ]
  },
  {
   "cell_type": "code",
   "execution_count": 24,
   "metadata": {},
   "outputs": [
    {
     "data": {
      "text/plain": [
       "[0.5105820298194885, 0.48148149251937866]"
      ]
     },
     "execution_count": 24,
     "metadata": {},
     "output_type": "execute_result"
    }
   ],
   "source": [
    "b10accy"
   ]
  },
  {
   "attachments": {
    "image.png": {
     "image/png": "[encoded data removed]"
    }
   },
   "cell_type": "markdown",
   "metadata": {},
   "source": [
    "# Run 4/28 10:00 AM - before corrected split\n",
    "- batch=20,epoch=5\n",
    "- batch=20,epoch=10\n",
    "- batch=40,epoch=5\n",
    "- batch=40,epoch=10\n",
    "- batch=60,epoch=5\n",
    "- batch=60,epoch=10\n",
    "\n",
    "![image.png](attachment:image.png)"
   ]
  },
  {
   "attachments": {
    "image-2.png": {
     "image/png": "[encoded data removed]"
    },
    "image.png": {
     "image/png": "[encoded data removed]"
    }
   },
   "cell_type": "markdown",
   "metadata": {},
   "source": [
    "# Run 4/30 7:00 PM - after corrected split\n",
    "- batch=20,epoch=5\n",
    "- batch=20,epoch=10\n",
    "- batch=40,epoch=5\n",
    "- batch=40,epoch=10\n",
    "- batch=60,epoch=5\n",
    "- batch=60,epoch=10\n",
    "\n",
    "![image.png](attachment:image.png)\n",
    "- batch=10,epoch=5\n",
    "- batch=10,epoch=10\n",
    "![image-2.png](attachment:image-2.png)"
   ]
  }
 ],
 "metadata": {
  "kernelspec": {
   "display_name": "Python 3",
   "language": "python",
   "name": "python3"
  },
  "language_info": {
   "codemirror_mode": {
    "name": "ipython",
    "version": 3
   },
   "file_extension": ".py",
   "mimetype": "text/x-python",
   "name": "python",
   "nbconvert_exporter": "python",
   "pygments_lexer": "ipython3",
   "version": "3.7.9"
  }
 },
 "nbformat": 4,
 "nbformat_minor": 4
}
