{
 "cells": [
  {
   "cell_type": "code",
   "execution_count": 1,
   "metadata": {},
   "outputs": [],
   "source": [
    "import pandas as pd\n",
    "import numpy as np\n",
    "from sklearn.linear_model import LogisticRegression\n",
    "from sklearn.feature_extraction.text import CountVectorizer\n",
    "from sklearn.model_selection import train_test_split\n",
    "from sklearn.linear_model import LogisticRegression\n",
    "from sklearn.model_selection import GridSearchCV\n",
    "from sklearn.model_selection import cross_val_score\n",
    "from sklearn.metrics import classification_report, confusion_matrix, accuracy_score, roc_curve\n",
    "import nltk\n",
    "from nltk.corpus import stopwords\n",
    "import matplotlib.pyplot as plt\n",
    "import seaborn as sns\n",
    "from sklearn import metrics\n",
    "import torch\n",
    "from torch import nn\n",
    "from torch.nn.utils.rnn import pad_sequence\n",
    "from torch.nn import functional as F\n",
    "from torch.utils.data import Dataset, TensorDataset, DataLoader\n",
    "import pytorch_lightning as pl\n",
    "import transformers as ppb\n",
    "from transformers import RobertaForSequenceClassification, RobertaTokenizerFast\n",
    "from sklearn.feature_extraction.text import TfidfVectorizer\n",
    "import re\n",
    "import warnings\n",
    "import collections as col\n",
    "warnings.filterwarnings('ignore')"
   ]
  },
  {
   "cell_type": "code",
   "execution_count": 2,
   "metadata": {},
   "outputs": [],
   "source": [
    "def clean_text(text):\n",
    "    text = text.lower()\n",
    "    \n",
    "    # Remove stop words\n",
    "    text = text.split()\n",
    "    stops = set(stopwords.words(\"english\"))\n",
    "    text = [w for w in text if not w in stops]\n",
    "    text = \" \".join(text)\n",
    "    \n",
    "    return text"
   ]
  },
  {
   "cell_type": "markdown",
   "metadata": {},
   "source": [
    "#### Import data"
   ]
  },
  {
   "cell_type": "code",
   "execution_count": 3,
   "metadata": {},
   "outputs": [],
   "source": [
    "# Import csv\n",
    "df = pd.read_csv('Combined_News_DJIA.csv')"
   ]
  },
  {
   "cell_type": "markdown",
   "metadata": {},
   "source": [
    "### Preprocessing"
   ]
  },
  {
   "cell_type": "code",
   "execution_count": 4,
   "metadata": {},
   "outputs": [],
   "source": [
    "# Combine headlines and remove other columns, keep only date and combined_headlines\n",
    "df['combined_headlines'] = df[['Top1']].apply(lambda row:'.'.join(row.values.astype(str)), axis=1)\n",
    "df = df[['combined_headlines', 'Label']]\n",
    "\n",
    "# Remove unwanted characters\n",
    "df.replace(\"[^a-zA-Z]\",\" \",regex=True, inplace=True)\n",
    "df.replace(\"^b \",\"\",regex=True, inplace=True)\n",
    "\n",
    "# Remove stop words and convert to lower case\n",
    "df['combined_headlines'] = df['combined_headlines'].apply(clean_text)\n",
    "\n",
    "# Split dataset into train and test: 80% and 20%\n",
    "# train = df.iloc[:1591, :]\n",
    "# test = df.iloc[1591:, :]\n",
    "train = df[df['Date'] < '20150101']\n",
    "test = df[df['Date'] > '20141231']\n",
    "\n",
    "# Transform combined headlines into a list for CountVectorizer input\n",
    "train_headlines = train['combined_headlines'].tolist()\n",
    "\n",
    "# Vectorize the data\n",
    "vectorizer = CountVectorizer()\n",
    "vectorized_train_headlines = vectorizer.fit_transform(train_headlines)"
   ]
  },
  {
   "cell_type": "markdown",
   "metadata": {},
   "source": [
    "### EDA"
   ]
  },
  {
   "cell_type": "markdown",
   "metadata": {},
   "source": [
    "#### Mean length of news description"
   ]
  },
  {
   "cell_type": "code",
   "execution_count": 5,
   "metadata": {},
   "outputs": [
    {
     "name": "stderr",
     "output_type": "stream",
     "text": [
      "[nltk_data] Downloading package punkt to /Users/anil/nltk_data...\n",
      "[nltk_data]   Package punkt is already up-to-date!\n"
     ]
    },
    {
     "data": {
      "text/plain": [
       "True"
      ]
     },
     "execution_count": 5,
     "metadata": {},
     "output_type": "execute_result"
    }
   ],
   "source": [
    "nltk.download('punkt')"
   ]
  },
  {
   "cell_type": "code",
   "execution_count": 6,
   "metadata": {},
   "outputs": [
    {
     "data": {
      "image/png": "[encoded data removed]",
      "text/plain": [
       "<Figure size 432x288 with 1 Axes>"
      ]
     },
     "metadata": {
      "needs_background": "light"
     },
     "output_type": "display_data"
    },
    {
     "data": {
      "image/png": "[encoded data removed]",
      "text/plain": [
       "<Figure size 432x288 with 1 Axes>"
      ]
     },
     "metadata": {
      "needs_background": "light"
     },
     "output_type": "display_data"
    }
   ],
   "source": [
    "testheadlines = test['combined_headlines'].tolist()\n",
    "\n",
    "tokens_all = []\n",
    "for headlines in train_headlines:\n",
    "    tokens = nltk.word_tokenize(headlines)\n",
    "    tokens_all += tokens\n",
    "    \n",
    "counter_train = col.Counter(tokens_all)\n",
    "\n",
    "tokens_all = []\n",
    "for headlines in testheadlines:\n",
    "    tokens = nltk.word_tokenize(headlines)\n",
    "    tokens_all += tokens\n",
    "    \n",
    "counter_test = col.Counter(tokens_all)\n",
    "\n",
    "c_train = np.array(counter_train.most_common(20))\n",
    "c_test = np.array(counter_test.most_common(20))\n",
    "\n",
    "plt.xticks(rotation = 90) \n",
    "plt.bar(c_train[:, 0], c_train[:, 1].astype('int'), color='green')\n",
    "plt.title(\"Most frequent words in train dataset\")\n",
    "plt.savefig('most_freq_train.png')\n",
    "plt.show()\n",
    "plt.xticks(rotation = 90) \n",
    "plt.bar(c_test[:, 0], c_test[:, 1].astype('int'), color='green')\n",
    "plt.title(\"Most frequent words in test dataset\")\n",
    "plt.savefig('most_freq_test.png')\n",
    "plt.show()"
   ]
  },
  {
   "cell_type": "markdown",
   "metadata": {},
   "source": [
    "### Logistic Regression"
   ]
  },
  {
   "cell_type": "markdown",
   "metadata": {},
   "source": [
    "#### Hyperparameter tuning for C parameter"
   ]
  },
  {
   "cell_type": "code",
   "execution_count": 7,
   "metadata": {},
   "outputs": [
    {
     "name": "stdout",
     "output_type": "stream",
     "text": [
      "best parameters:  {'C': 0.0001}\n",
      "best scores:  0.5424262139942035\n"
     ]
    }
   ],
   "source": [
    "logreg_parameters = {'C': np.linspace(0.0001, 100, 20)}\n",
    "grid_search_logreg = GridSearchCV(LogisticRegression(), logreg_parameters)\n",
    "grid_search_logreg.fit(vectorized_train_headlines, train['Label'])\n",
    "\n",
    "print('best parameters: ', grid_search_logreg.best_params_)\n",
    "print('best scores: ', grid_search_logreg.best_score_)"
   ]
  },
  {
   "cell_type": "code",
   "execution_count": 8,
   "metadata": {},
   "outputs": [],
   "source": [
    "# Logistic Regression\n",
    "# Fit for train set\n",
    "logistic_reg = LogisticRegression(C=0.1)\n",
    "logistic_reg = logistic_reg.fit(vectorized_train_headlines, train['Label'])"
   ]
  },
  {
   "cell_type": "code",
   "execution_count": 9,
   "metadata": {},
   "outputs": [
    {
     "data": {
      "text/plain": [
       "Text(0.5, 1, 'Accuracy Score: 0.5402010050251256')"
      ]
     },
     "execution_count": 9,
     "metadata": {},
     "output_type": "execute_result"
    },
    {
     "data": {
      "image/png": "[encoded data removed]",
      "text/plain": [
       "<Figure size 432x432 with 2 Axes>"
      ]
     },
     "metadata": {
      "needs_background": "light"
     },
     "output_type": "display_data"
    }
   ],
   "source": [
    "# Predict for test data\n",
    "# test_headlines = combine_headlines(test)\n",
    "test_headlines = test['combined_headlines'].tolist()\n",
    "test_vectorized_headlines = vectorizer.transform(test_headlines)\n",
    "prediction_labels = logistic_reg.predict(test_vectorized_headlines)\n",
    "cm = metrics.confusion_matrix(test['Label'], prediction_labels)\n",
    "\n",
    "# Use score method to get accuracy of model\n",
    "score = logistic_reg.score(test_vectorized_headlines, test['Label'])\n",
    "\n",
    "# Plot confusion matrix\n",
    "plt.figure(figsize=(6,6))\n",
    "sns.heatmap(cm, annot=True, fmt=\".0f\", linewidths=.5, square = True, cmap = 'Blues_r');\n",
    "plt.ylabel('Actual label (1-gram)');\n",
    "plt.xlabel('Predicted label (1-gram)');\n",
    "all_sample_title = 'Accuracy Score: {0}'.format(score)\n",
    "plt.title(all_sample_title, size = 15)"
   ]
  },
  {
   "cell_type": "markdown",
   "metadata": {},
   "source": [
    "#### Implement 2-gram in bag of words while tokenization and model Logistic regression"
   ]
  },
  {
   "cell_type": "code",
   "execution_count": 10,
   "metadata": {},
   "outputs": [],
   "source": [
    "# Fit model\n",
    "ngram_vectorizer = CountVectorizer(ngram_range=(2,2))\n",
    "ngram_train = ngram_vectorizer.fit_transform(train_headlines)\n",
    "\n",
    "ngram_model = LogisticRegression(C=1)\n",
    "ngram_model = ngram_model.fit(ngram_train, train['Label'])\n"
   ]
  },
  {
   "cell_type": "code",
   "execution_count": 11,
   "metadata": {},
   "outputs": [
    {
     "data": {
      "image/png": "[encoded data removed]",
      "text/plain": [
       "<Figure size 432x432 with 2 Axes>"
      ]
     },
     "metadata": {
      "needs_background": "light"
     },
     "output_type": "display_data"
    }
   ],
   "source": [
    "# Predict for test data\n",
    "test_headlines = test['combined_headlines'].tolist()\n",
    "ngram_test_vectorized_headlines = ngram_vectorizer.transform(test_headlines)\n",
    "ngram_prediction_labels = ngram_model.predict(ngram_test_vectorized_headlines)\n",
    "ngram_cm = metrics.confusion_matrix(test['Label'], ngram_prediction_labels)\n",
    "\n",
    "# Use score method to get accuracy of model\n",
    "ngram_score = ngram_model.score(ngram_test_vectorized_headlines, test['Label'])\n",
    "\n",
    "# Plot confusion matrix\n",
    "plt.figure(figsize=(6,6))\n",
    "sns.heatmap(ngram_cm, annot=True, fmt=\".0f\", linewidths=.5, square = True, cmap = 'Blues_r');\n",
    "plt.ylabel('Actual label (2-gram)');\n",
    "plt.xlabel('Predicted label (2-gram)');\n",
    "all_sample_title = 'Accuracy Score: {0}'.format(ngram_score)\n",
    "plt.title(all_sample_title, size = 15);"
   ]
  },
  {
   "cell_type": "markdown",
   "metadata": {},
   "source": [
    "#### Feature Extraction using tf-idf and then Logistic Regression"
   ]
  },
  {
   "cell_type": "code",
   "execution_count": 12,
   "metadata": {},
   "outputs": [],
   "source": [
    "def to_words(content):\n",
    "    letters_only = re.sub(\"[^a-zA-Z]\", \" \", content) \n",
    "    words = letters_only.lower().split()                             \n",
    "    stops = set(stopwords.words(\"english\"))                  \n",
    "    meaningful_words = [w for w in words if not w in stops] \n",
    "    return( \" \".join( meaningful_words )) "
   ]
  },
  {
   "cell_type": "code",
   "execution_count": 13,
   "metadata": {},
   "outputs": [],
   "source": [
    "tfidf_df = pd.read_csv('Combined_News_DJIA.csv')\n",
    "\n",
    "tfidf_df['Combined']=tfidf_df.iloc[:,2:27].apply(lambda row: ''.join(str(row.values)), axis=1)\n",
    "\n",
    "train,test = train_test_split(tfidf_df,test_size=0.2,random_state=42)\n",
    "\n"
   ]
  },
  {
   "cell_type": "code",
   "execution_count": 14,
   "metadata": {},
   "outputs": [],
   "source": [
    "# Use tfidf vectorizer\n",
    "tfidf=TfidfVectorizer()\n",
    "train_text = []\n",
    "test_text = []\n",
    "for each in train['Combined']:\n",
    "    train_text.append(to_words(each))\n",
    "for each in test['Combined']:\n",
    "    test_text.append(to_words(each))\n",
    "train_features = tfidf.fit_transform(train_text)\n",
    "test_features = tfidf.transform(test_text)"
   ]
  },
  {
   "cell_type": "code",
   "execution_count": 15,
   "metadata": {},
   "outputs": [
    {
     "name": "stdout",
     "output_type": "stream",
     "text": [
      "Accuracy of LogisticRegression is 0.5703517587939698\n"
     ]
    },
    {
     "data": {
      "image/png": "[encoded data removed]",
      "text/plain": [
       "<Figure size 432x432 with 2 Axes>"
      ]
     },
     "metadata": {
      "needs_background": "light"
     },
     "output_type": "display_data"
    }
   ],
   "source": [
    "# Fit and predict using tfidf vectorized inputs and logistic regression classifier\n",
    "tfidf_log_reg_classifier = LogisticRegression(C=0.1,solver='liblinear',max_iter=200)\n",
    "\n",
    "fit = tfidf_log_reg_classifier.fit(train_features,train['Label'])\n",
    "pred = fit.predict(test_features)\n",
    "prob = fit.predict_proba(test_features)[:,1]\n",
    "\n",
    "accuracy = accuracy_score(pred,test['Label'])\n",
    "# Model.append(tfidf_log_reg_classifier.__class__.__name__)\n",
    "print('Accuracy of '+tfidf_log_reg_classifier.__class__.__name__+' is '+str(accuracy))\n",
    "\n",
    "tfidf_cm = metrics.confusion_matrix(test['Label'], pred)\n",
    "\n",
    "# Use score method to get accuracy of model\n",
    "tfidf_score = tfidf_log_reg_classifier.score(test_features, test['Label'])\n",
    "\n",
    "# Plot confusion matrix\n",
    "plt.figure(figsize=(6,6))\n",
    "sns.heatmap(tfidf_cm, annot=True, fmt=\".0f\", linewidths=.5, square = True, cmap = 'Blues_r');\n",
    "plt.ylabel('Actual label (2-gram)');\n",
    "plt.xlabel('Predicted label (2-gram)');\n",
    "all_sample_title = 'Accuracy Score: {0}'.format(tfidf_score)\n",
    "plt.title(all_sample_title, size = 15);"
   ]
  },
  {
   "cell_type": "markdown",
   "metadata": {},
   "source": [
    "### BERT"
   ]
  },
  {
   "cell_type": "markdown",
   "metadata": {},
   "source": [
    "#### Importing the dataset"
   ]
  },
  {
   "cell_type": "code",
   "execution_count": 16,
   "metadata": {},
   "outputs": [],
   "source": [
    "# Import dataset again to keep logistic regression and BERT independent of each other\n",
    "bert_df = pd.read_csv('Combined_News_DJIA.csv')"
   ]
  },
  {
   "cell_type": "markdown",
   "metadata": {},
   "source": [
    "#### Preparing dataset"
   ]
  },
  {
   "cell_type": "code",
   "execution_count": 17,
   "metadata": {},
   "outputs": [],
   "source": [
    "def clean_text(text):\n",
    "    \n",
    "    text = text.lower()\n",
    "    \n",
    "    # Remove stop words\n",
    "    text = text.split()\n",
    "    stops = set(stopwords.words(\"english\"))\n",
    "    text = [w for w in text if not w in stops]\n",
    "    text = \" \".join(text)\n",
    "    \n",
    "    return text"
   ]
  },
  {
   "cell_type": "code",
   "execution_count": 18,
   "metadata": {},
   "outputs": [],
   "source": [
    "# Combine headlines and remove other columns, keep only date and combined_headlines\n",
    "bert_df['combined_headlines'] = bert_df[['Top1']].apply(lambda row:'.'.join(row.values.astype(str)), axis=1)\n",
    "bert_df = bert_df[['combined_headlines', 'Label']]\n",
    "\n",
    "bert_df.replace(\"[^a-zA-Z]\",\" \",regex=True, inplace=True)\n",
    "bert_df.replace(\"^b \",\"\",regex=True, inplace=True)\n",
    "\n",
    "bert_df['combined_headlines'] = bert_df['combined_headlines'].apply(clean_text)"
   ]
  },
  {
   "cell_type": "code",
   "execution_count": 19,
   "metadata": {},
   "outputs": [],
   "source": [
    "# Download stopwords if not available already\n",
    "# nltk.download('stopwords')\n",
    "\n",
    "# Using a different preprocessing step above which removes stop words \n",
    "# in addition to whatever this module does\n",
    "\n",
    "# Combine headlines and remove other columns, keep only date and combined_headlines\n",
    "# bert_df['combined_headlines'] = bert_df[['Top1']].apply(lambda row:'.'.join(row.values.astype(str)), axis=1)\n",
    "# bert_df = bert_df[['combined_headlines', 'Label']]\n",
    "\n",
    "# bert_df.replace(\"[^a-zA-Z]\",\" \",regex=True, inplace=True)\n",
    "# bert_df.replace(\"^b \",\"\",regex=True, inplace=True)\n",
    "\n",
    "# for i in bert_df.columns:\n",
    "#     if i=='Label':\n",
    "#         continue\n",
    "#     bert_df[i] = bert_df[i].lower()"
   ]
  },
  {
   "cell_type": "markdown",
   "metadata": {},
   "source": [
    "#### Loading the Pre-trained BERT model"
   ]
  },
  {
   "cell_type": "code",
   "execution_count": 20,
   "metadata": {},
   "outputs": [],
   "source": [
    "# DistilBERT\n",
    "model_class, tokenizer_class, pretrained_weights = (ppb.DistilBertModel, ppb.DistilBertTokenizer, 'distilbert-base-uncased')\n",
    "\n",
    "# load pre-trained model/tokenizer\n",
    "tokenizer = tokenizer_class.from_pretrained(pretrained_weights)\n",
    "model = model_class.from_pretrained(pretrained_weights)"
   ]
  },
  {
   "cell_type": "markdown",
   "metadata": {},
   "source": [
    "#### Tokenization"
   ]
  },
  {
   "cell_type": "code",
   "execution_count": 21,
   "metadata": {},
   "outputs": [],
   "source": [
    "# Our first step is to tokenize the sentences -- break them up into word and subwords in the format BERT is comfortable with\n",
    "tokenized = bert_df['combined_headlines'].apply((\n",
    "    lambda x: tokenizer.encode(x, add_special_tokens=True)))"
   ]
  },
  {
   "cell_type": "markdown",
   "metadata": {},
   "source": [
    "#### Padding"
   ]
  },
  {
   "cell_type": "code",
   "execution_count": 22,
   "metadata": {},
   "outputs": [],
   "source": [
    "# After tokenization, tokenized is a list of sentences -- each sentences is represented as a list of tokens. We want BERT to process our examples all at once (as one batch). \n",
    "# It's just faster that way. For that reason, we need to pad all lists to the same size, so we can represent the input as one 2-d array, rather than a list of lists (of different lengths)\n",
    "max_len = 0\n",
    "for i in tokenized.values:\n",
    "    if len(i)>max_len:\n",
    "        max_len = len(i)\n",
    "padded = np.array([i + [0]*(max_len - len(i)) for i in tokenized.values])"
   ]
  },
  {
   "cell_type": "markdown",
   "metadata": {},
   "source": [
    "#### Masking"
   ]
  },
  {
   "cell_type": "code",
   "execution_count": 23,
   "metadata": {},
   "outputs": [],
   "source": [
    "# If we directly send padded to BERT, that would slightly confuse it. \n",
    "# We need to create another variable to tell it to ignore (mask) the padding we've added when it's processing its input. That's what attention_mask is:\n",
    "attention_mask = np.where(padded != 0, 1, 0)"
   ]
  },
  {
   "cell_type": "markdown",
   "metadata": {},
   "source": [
    "#### Model 1: Deep Learning"
   ]
  },
  {
   "cell_type": "code",
   "execution_count": 24,
   "metadata": {},
   "outputs": [],
   "source": [
    "input_ids = torch.tensor(padded)\n",
    "attention_mask = torch.tensor(attention_mask)\n",
    "with torch.no_grad():\n",
    "    last_hidden_states = model(input_ids, attention_mask=attention_mask)"
   ]
  },
  {
   "cell_type": "markdown",
   "metadata": {},
   "source": [
    "#### Save features in a variable to be used in logistic regression later. Store labels in a separate variable as well (taken from original dataframe) "
   ]
  },
  {
   "cell_type": "code",
   "execution_count": 25,
   "metadata": {},
   "outputs": [],
   "source": [
    "features = last_hidden_states[0][:, 0, :].numpy()\n",
    "labels = bert_df['Label']"
   ]
  },
  {
   "cell_type": "markdown",
   "metadata": {},
   "source": [
    "#### Model 2: Logistic Regression. Hyperparameter tuning (grid search) for C parameter (regularization strength)"
   ]
  },
  {
   "cell_type": "code",
   "execution_count": 26,
   "metadata": {},
   "outputs": [],
   "source": [
    "# Split into training and test set\n",
    "train_features, test_features, train_labels, test_labels = train_test_split(features, labels)"
   ]
  },
  {
   "cell_type": "code",
   "execution_count": 27,
   "metadata": {},
   "outputs": [
    {
     "name": "stdout",
     "output_type": "stream",
     "text": [
      "best parameters:  {'C': 0.0001}\n",
      "best scores:  0.5217974905164866\n"
     ]
    }
   ],
   "source": [
    "parameters = {'C': np.linspace(0.0001, 100, 20)}\n",
    "grid_search = GridSearchCV(LogisticRegression(), parameters)\n",
    "grid_search.fit(train_features, train_labels)\n",
    "\n",
    "print('best parameters: ', grid_search.best_params_)\n",
    "print('best scores: ', grid_search.best_score_)"
   ]
  },
  {
   "cell_type": "markdown",
   "metadata": {},
   "source": [
    "#### Fitting and Evaluating Model 2"
   ]
  },
  {
   "cell_type": "code",
   "execution_count": 28,
   "metadata": {},
   "outputs": [
    {
     "name": "stdout",
     "output_type": "stream",
     "text": [
      "Accuracy score of BERT model: 0.5763052208835341\n"
     ]
    }
   ],
   "source": [
    "lr_clf = LogisticRegression(C=0.0001)\n",
    "lr_clf.fit(train_features, train_labels)\n",
    "\n",
    "print(f'Accuracy score of BERT model: {lr_clf.score(test_features, test_labels)}')\n",
    "\n",
    "# pred = lr_clf.predict(test_features)\n",
    "# prob = lr_clf.predict_proba(test_features)[:,1]\n",
    "\n",
    "# accuracy = accuracy_score(pred,test['Label'])\n",
    "# Accuracy.append(accuracy)\n",
    "# Model.append(tfidf_log_reg_classifier.__class__.__name__)\n",
    "# print('Accuracy of '+tfidf_log_reg_classifier.__class__.__name__+' is '+str(accuracy))\n",
    "\n",
    "# tfidf_cm = metrics.confusion_matrix(test['Label'], pred)\n",
    "\n",
    "# # Use score method to get accuracy of model\n",
    "# tfidf_score = tfidf_log_reg_classifier.score(test_features, test['Label'])\n",
    "\n",
    "# # Plot confusion matrix\n",
    "# plt.figure(figsize=(6,6))\n",
    "# sns.heatmap(tfidf_cm, annot=True, fmt=\".0f\", linewidths=.5, square = True, cmap = 'Blues_r');\n",
    "# plt.ylabel('Actual label (2-gram)');\n",
    "# plt.xlabel('Predicted label (2-gram)');\n",
    "# all_sample_title = 'Accuracy Score: {0}'.format(tfidf_score)\n",
    "# plt.title(all_sample_title, size = 15);"
   ]
  },
  {
   "cell_type": "markdown",
   "metadata": {},
   "source": [
    "### SVM"
   ]
  },
  {
   "cell_type": "code",
   "execution_count": 35,
   "metadata": {},
   "outputs": [
    {
     "name": "stdout",
     "output_type": "stream",
     "text": [
      "[[  0 186]\n",
      " [  0 192]]\n",
      "              precision    recall  f1-score   support\n",
      "\n",
      "           0       0.00      0.00      0.00       186\n",
      "           1       0.51      1.00      0.67       192\n",
      "\n",
      "    accuracy                           0.51       378\n",
      "   macro avg       0.25      0.50      0.34       378\n",
      "weighted avg       0.26      0.51      0.34       378\n",
      "\n"
     ]
    }
   ],
   "source": [
    "# This script concatenates all news headlines of a day into one and uses the tf-idf scheme to extract a feature vector.\n",
    "# An SVM with rbf kernel without optimization of hyperparameters is used as a classifier.\n",
    "\n",
    "from sklearn.feature_extraction.text import CountVectorizer, TfidfVectorizer\n",
    "import pandas\n",
    "import numpy as np\n",
    "from sklearn.svm import SVC\n",
    "from sklearn.metrics import roc_auc_score\n",
    "from datetime import date\n",
    "\n",
    "# read data\n",
    "data = pandas.read_csv(\"Combined_News_DJIA.csv\", )\n",
    "\n",
    "# concatenate all news into one\n",
    "data[\"combined_news\"] = data.filter(regex=(\"Top.*\")).apply(lambda x: ''.join(str(x.values)), axis=1)\n",
    "\n",
    "# convert to feature vector\n",
    "feature_extraction = TfidfVectorizer()\n",
    "X = feature_extraction.fit_transform(data[\"combined_news\"].values)\n",
    "\n",
    "# split into training- and test set\n",
    "TRAINING_END = date(2014,12,31)\n",
    "num_training = len(data[pandas.to_datetime(data[\"Date\"]) <= TRAINING_END])\n",
    "X_train = X[:num_training]\n",
    "X_test = X[num_training:]\n",
    "y_train = data[\"Label\"].values[:num_training]\n",
    "y_test = data[\"Label\"].values[num_training:]\n",
    "\n",
    "# train classifier\n",
    "clf = SVC(probability=True, kernel='rbf')\n",
    "clf.fit(X_train, y_train)\n",
    "\n",
    "# predict and evaluate predictions\n",
    "predictions = clf.predict(X_test)\n",
    "\n",
    "print(confusion_matrix(y_test,predictions))\n",
    "print(classification_report(y_test,predictions))"
   ]
  },
  {
   "cell_type": "code",
   "execution_count": null,
   "metadata": {},
   "outputs": [],
   "source": []
  }
 ],
 "metadata": {
  "kernelspec": {
   "display_name": "Python 3",
   "language": "python",
   "name": "python3"
  },
  "language_info": {
   "codemirror_mode": {
    "name": "ipython",
    "version": 3
   },
   "file_extension": ".py",
   "mimetype": "text/x-python",
   "name": "python",
   "nbconvert_exporter": "python",
   "pygments_lexer": "ipython3",
   "version": "3.7.4"
  }
 },
 "nbformat": 4,
 "nbformat_minor": 4
}
